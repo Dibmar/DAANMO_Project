{
 "cells": [
  {
   "cell_type": "code",
   "execution_count": 1,
   "metadata": {},
   "outputs": [],
   "source": [
    "# POURPOSE\n",
    "# The pourpose of this jupyter notebook is to put into relation the different csv files related to te DAANMO project in order to find the answers to the target questions.\n",
    "\n",
    "# LIBRARIES\n",
    "import pandas as pd\n",
    "import numpy as np\n",
    "import json\n",
    "from pandas.io.json import json_normalize\n",
    "from ast import literal_eval\n",
    "import ast\n",
    "\n",
    "import matplotlib.pyplot as plt\n",
    "%matplotlib inline\n",
    "import seaborn as sns\n",
    "\n",
    ""
   ]
  },
  {
   "cell_type": "code",
   "execution_count": null,
   "metadata": {},
   "outputs": [],
   "source": [
    "# CSVs\n",
    "links = pd.read_csv(r'F:\\Programacion\\1.BOOTCAMP\\data\\the-movies-dataset\\ready_dfs\\links_ready.csv')\n",
    "links_small = pd.read_csv(r'F:\\Programacion\\1.BOOTCAMP\\data\\the-movies-dataset\\ready_dfs\\links_small_ready.csv')\n",
    "keywords = pd.read_csv(r'F:\\Programacion\\1.BOOTCAMP\\data\\the-movies-dataset\\ready_dfs\\keywords_ready.csv')"
   ]
  }
 ],
 "metadata": {
  "language_info": {
   "name": "python",
   "codemirror_mode": {
    "name": "ipython",
    "version": 3
   },
   "version": "3.7.4-final"
  },
  "orig_nbformat": 2,
  "file_extension": ".py",
  "mimetype": "text/x-python",
  "name": "python",
  "npconvert_exporter": "python",
  "pygments_lexer": "ipython3",
  "version": 3,
  "kernelspec": {
   "name": "python3",
   "display_name": "Python 3"
  }
 },
 "nbformat": 4,
 "nbformat_minor": 2
}