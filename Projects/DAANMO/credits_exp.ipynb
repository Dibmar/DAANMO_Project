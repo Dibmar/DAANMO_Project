{
 "cells": [
  {
   "cell_type": "code",
   "execution_count": 2,
   "metadata": {},
   "outputs": [],
   "source": [
    "import pandas as pd\n",
    "import numpy as np\n",
    "import json\n",
    "import ast\n",
    "\n",
    "\n",
    "\n",
    "# Visalization\n",
    "import seaborn as sns\n",
    "import matplotlib.pyplot as plt"
   ]
  },
  {
   "cell_type": "code",
   "execution_count": 62,
   "metadata": {},
   "outputs": [
    {
     "output_type": "execute_result",
     "data": {
      "text/plain": "                                                cast  \\\n0  [{'cast_id': 14, 'character': 'Woody (voice)',...   \n\n                                                crew   id  \n0  [{'credit_id': '52fe4284c3a36847f8024f49', 'de...  862  ",
      "text/html": "<div>\n<style scoped>\n    .dataframe tbody tr th:only-of-type {\n        vertical-align: middle;\n    }\n\n    .dataframe tbody tr th {\n        vertical-align: top;\n    }\n\n    .dataframe thead th {\n        text-align: right;\n    }\n</style>\n<table border=\"1\" class=\"dataframe\">\n  <thead>\n    <tr style=\"text-align: right;\">\n      <th></th>\n      <th>cast</th>\n      <th>crew</th>\n      <th>id</th>\n    </tr>\n  </thead>\n  <tbody>\n    <tr>\n      <td>0</td>\n      <td>[{'cast_id': 14, 'character': 'Woody (voice)',...</td>\n      <td>[{'credit_id': '52fe4284c3a36847f8024f49', 'de...</td>\n      <td>862</td>\n    </tr>\n  </tbody>\n</table>\n</div>"
     },
     "metadata": {},
     "execution_count": 62
    }
   ],
   "source": [
    "credits = pd.read_csv(r'..\\data\\the-movies-dataset\\credits.csv')\n",
    "credits.head(1)"
   ]
  },
  {
   "cell_type": "code",
   "execution_count": 5,
   "metadata": {},
   "outputs": [
    {
     "output_type": "stream",
     "name": "stdout",
     "text": "Done\n"
    }
   ],
   "source": [
    "# for gender value fixing\n",
    "dfnu = pd.read_csv(r'..\\data\\the-movies-dataset\\ready_dfs\\dfnu.csv')\n",
    "gender = lambda x: \"Female\" if x == 1 else (\"Male\" if x == 2 else x)\n",
    "\n",
    "def name_search (df):\n",
    "    in_dfnu = 0\n",
    "    out_dfnu = 0\n",
    "    for e in df.index:\n",
    "        name = df.loc[e, 'name'].split(' ')[0]\n",
    "        if name in dfnu.name:\n",
    "            in_dfnu = in_dfnu + 1\n",
    "        else:\n",
    "            out_dfnu = out_dfnu + 1\n",
    "    print (f\"Names in dfnu: {in_dfnu}\\nNames not in dfnu: {out_dfnu}\")\n",
    "\n",
    "print(\"Done\")"
   ]
  },
  {
   "cell_type": "code",
   "execution_count": 64,
   "metadata": {},
   "outputs": [
    {
     "output_type": "execute_result",
     "data": {
      "text/plain": "(240698, 3)"
     },
     "metadata": {},
     "execution_count": 64
    }
   ],
   "source": [
    "dfnu.shape"
   ]
  },
  {
   "cell_type": "code",
   "execution_count": 65,
   "metadata": {},
   "outputs": [
    {
     "output_type": "stream",
     "name": "stdout",
     "text": "<class 'pandas.core.frame.DataFrame'>\nRangeIndex: 45476 entries, 0 to 45475\nData columns (total 3 columns):\ncast    45476 non-null object\ncrew    45476 non-null object\nid      45476 non-null int64\ndtypes: int64(1), object(2)\nmemory usage: 1.0+ MB\n"
    }
   ],
   "source": [
    "credits.info()"
   ]
  },
  {
   "cell_type": "code",
   "execution_count": 66,
   "metadata": {},
   "outputs": [
    {
     "output_type": "execute_result",
     "data": {
      "text/plain": "cast    False\ncrew    False\nid      False\ndtype: bool"
     },
     "metadata": {},
     "execution_count": 66
    }
   ],
   "source": [
    "credits.isnull().any()"
   ]
  },
  {
   "cell_type": "code",
   "execution_count": 67,
   "metadata": {},
   "outputs": [],
   "source": [
    "credits = credits.set_index('id')"
   ]
  },
  {
   "cell_type": "code",
   "execution_count": 68,
   "metadata": {},
   "outputs": [],
   "source": [
    "cast = pd.DataFrame(credits['cast'])\n",
    "crew = pd.DataFrame(credits['crew'])"
   ]
  },
  {
   "cell_type": "markdown",
   "metadata": {},
   "source": [
    "## Cast"
   ]
  },
  {
   "cell_type": "code",
   "execution_count": 69,
   "metadata": {},
   "outputs": [
    {
     "output_type": "execute_result",
     "data": {
      "text/plain": "\"[{'cast_id': 14, 'character': 'Woody (voice)', 'credit_id': '52fe4284c3a36847f8024f95', 'gender': 2, 'id': 31, 'name': 'Tom Hanks', 'order': 0, 'profile_path': '/pQFoyx7rp09CJTAb932F2g8Nlho.jpg'}, {'cast_id': 15, 'character': 'Buzz Lightyear (voice)', 'credit_id': '52fe4284c3a36847f8024f99', 'gender': 2, 'id': 12898, 'name': 'Tim Allen', 'order': 1, 'profile_path': '/uX2xVf6pMmPepxnvFWyBtjexzgY.jpg'}, {'cast_id': 16, 'character': 'Mr. Potato Head (voice)', 'credit_id': '52fe4284c3a36847f8024f9d', 'gender': 2, 'id': 7167, 'name': 'Don Rickles', 'order': 2, 'profile_path': '/h5BcaDMPRVLHLDzbQavec4xfSdt.jpg'}, {'cast_id': 17, 'character': 'Slinky Dog (voice)', 'credit_id': '52fe4284c3a36847f8024fa1', 'gender': 2, 'id': 12899, 'name': 'Jim Varney', 'order': 3, 'profile_path': '/eIo2jVVXYgjDtaHoF19Ll9vtW7h.jpg'}, {'cast_id': 18, 'character': 'Rex (voice)', 'credit_id': '52fe4284c3a36847f8024fa5', 'gender': 2, 'id': 12900, 'name': 'Wallace Shawn', 'order': 4, 'profile_path': '/oGE6JqPP2xH4tNORKNqxbNPYi7u.jpg'}, {'cast_id': 19, 'character': 'Hamm (voice)', 'credit_id': '52fe4284c3a36847f8024fa9', 'gender': 2, 'id': 7907, 'name': 'John Ratzenberger', 'order': 5, 'profile_path': '/yGechiKWL6TJDfVE2KPSJYqdMsY.jpg'}, {'cast_id': 20, 'character': 'Bo Peep (voice)', 'credit_id': '52fe4284c3a36847f8024fad', 'gender': 1, 'id': 8873, 'name': 'Annie Potts', 'order': 6, 'profile_path': '/eryXT84RL41jHSJcMy4kS3u9y6w.jpg'}, {'cast_id': 26, 'character': 'Andy (voice)', 'credit_id': '52fe4284c3a36847f8024fc1', 'gender': 0, 'id': 1116442, 'name': 'John Morris', 'order': 7, 'profile_path': '/vYGyvK4LzeaUCoNSHtsuqJUY15M.jpg'}, {'cast_id': 22, 'character': 'Sid (voice)', 'credit_id': '52fe4284c3a36847f8024fb1', 'gender': 2, 'id': 12901, 'name': 'Erik von Detten', 'order': 8, 'profile_path': '/twnF1ZaJ1FUNUuo6xLXwcxjayBE.jpg'}, {'cast_id': 23, 'character': 'Mrs. Davis (voice)', 'credit_id': '52fe4284c3a36847f8024fb5', 'gender': 1, 'id': 12133, 'name': 'Laurie Metcalf', 'order': 9, 'profile_path': '/unMMIT60eoBM2sN2nyR7EZ2BvvD.jpg'}, {'cast_id': 24, 'character': 'Sergeant (voice)', 'credit_id': '52fe4284c3a36847f8024fb9', 'gender': 2, 'id': 8655, 'name': 'R. Lee Ermey', 'order': 10, 'profile_path': '/r8GBqFBjypLUP9VVqDqfZ7wYbSs.jpg'}, {'cast_id': 25, 'character': 'Hannah (voice)', 'credit_id': '52fe4284c3a36847f8024fbd', 'gender': 1, 'id': 12903, 'name': 'Sarah Freeman', 'order': 11, 'profile_path': None}, {'cast_id': 27, 'character': 'TV Announcer (voice)', 'credit_id': '52fe4284c3a36847f8024fc5', 'gender': 2, 'id': 37221, 'name': 'Penn Jillette', 'order': 12, 'profile_path': '/zmAaXUdx12NRsssgHbk1T31j2x9.jpg'}]\""
     },
     "metadata": {},
     "execution_count": 69
    }
   ],
   "source": [
    "cast.iloc[0,0]"
   ]
  },
  {
   "cell_type": "code",
   "execution_count": 70,
   "metadata": {},
   "outputs": [
    {
     "output_type": "execute_result",
     "data": {
      "text/plain": "(45476, 1)"
     },
     "metadata": {},
     "execution_count": 70
    }
   ],
   "source": [
    "cast.shape"
   ]
  },
  {
   "cell_type": "code",
   "execution_count": 71,
   "metadata": {},
   "outputs": [],
   "source": [
    "cast['cast'] = cast['cast'].apply(ast.literal_eval)\n",
    "cast['cast_size'] = cast['cast'].apply(lambda x: len(x))\n",
    "cast['cast_order'] = cast['cast'].apply(lambda x: [i['order'] for i in x] if isinstance(x, list) else [])\n",
    "cast['cast_name'] = cast['cast'].apply(lambda x: [i['name'] for i in x] if isinstance(x, list) else [])\n",
    "cast['cast_gender'] = cast['cast'].apply(lambda x: [i['gender'] for i in x] if isinstance(x, list) else [])"
   ]
  },
  {
   "cell_type": "code",
   "execution_count": 72,
   "metadata": {},
   "outputs": [
    {
     "output_type": "execute_result",
     "data": {
      "text/plain": "                                                   cast  cast_size  \\\nid                                                                   \n862   [{'cast_id': 14, 'character': 'Woody (voice)',...         13   \n8844  [{'cast_id': 1, 'character': 'Alan Parrish', '...         26   \n\n                                             cast_order  \\\nid                                                        \n862          [0, 1, 2, 3, 4, 5, 6, 7, 8, 9, 10, 11, 12]   \n8844  [0, 1, 2, 3, 4, 5, 6, 7, 8, 9, 10, 11, 12, 13,...   \n\n                                              cast_name  \\\nid                                                        \n862   [Tom Hanks, Tim Allen, Don Rickles, Jim Varney...   \n8844  [Robin Williams, Jonathan Hyde, Kirsten Dunst,...   \n\n                                            cast_gender  \nid                                                       \n862             [2, 2, 2, 2, 2, 2, 1, 0, 2, 1, 2, 1, 2]  \n8844  [2, 2, 1, 0, 1, 1, 2, 1, 0, 1, 2, 1, 2, 0, 0, ...  ",
      "text/html": "<div>\n<style scoped>\n    .dataframe tbody tr th:only-of-type {\n        vertical-align: middle;\n    }\n\n    .dataframe tbody tr th {\n        vertical-align: top;\n    }\n\n    .dataframe thead th {\n        text-align: right;\n    }\n</style>\n<table border=\"1\" class=\"dataframe\">\n  <thead>\n    <tr style=\"text-align: right;\">\n      <th></th>\n      <th>cast</th>\n      <th>cast_size</th>\n      <th>cast_order</th>\n      <th>cast_name</th>\n      <th>cast_gender</th>\n    </tr>\n    <tr>\n      <th>id</th>\n      <th></th>\n      <th></th>\n      <th></th>\n      <th></th>\n      <th></th>\n    </tr>\n  </thead>\n  <tbody>\n    <tr>\n      <td>862</td>\n      <td>[{'cast_id': 14, 'character': 'Woody (voice)',...</td>\n      <td>13</td>\n      <td>[0, 1, 2, 3, 4, 5, 6, 7, 8, 9, 10, 11, 12]</td>\n      <td>[Tom Hanks, Tim Allen, Don Rickles, Jim Varney...</td>\n      <td>[2, 2, 2, 2, 2, 2, 1, 0, 2, 1, 2, 1, 2]</td>\n    </tr>\n    <tr>\n      <td>8844</td>\n      <td>[{'cast_id': 1, 'character': 'Alan Parrish', '...</td>\n      <td>26</td>\n      <td>[0, 1, 2, 3, 4, 5, 6, 7, 8, 9, 10, 11, 12, 13,...</td>\n      <td>[Robin Williams, Jonathan Hyde, Kirsten Dunst,...</td>\n      <td>[2, 2, 1, 0, 1, 1, 2, 1, 0, 1, 2, 1, 2, 0, 0, ...</td>\n    </tr>\n  </tbody>\n</table>\n</div>"
     },
     "metadata": {},
     "execution_count": 72
    }
   ],
   "source": [
    "cast.head(2)"
   ]
  },
  {
   "cell_type": "code",
   "execution_count": 73,
   "metadata": {},
   "outputs": [
    {
     "output_type": "execute_result",
     "data": {
      "text/plain": "(45476, 5)"
     },
     "metadata": {},
     "execution_count": 73
    }
   ],
   "source": [
    "cast.shape"
   ]
  },
  {
   "cell_type": "code",
   "execution_count": 74,
   "metadata": {
    "tags": [
     "outputPrepend",
     "outputPrepend",
     "outputPrepend",
     "outputPrepend",
     "outputPrepend",
     "outputPrepend",
     "outputPrepend",
     "outputPrepend",
     "outputPrepend",
     "outputPrepend",
     "outputPrepend",
     "outputPrepend",
     "outputPrepend",
     "outputPrepend",
     "outputPrepend",
     "outputPrepend"
    ]
   },
   "outputs": [
    {
     "output_type": "stream",
     "name": "stdout",
     "text": "Done\n"
    }
   ],
   "source": [
    "credits_order = []\n",
    "actors_name = []\n",
    "actors_gender = []\n",
    "actors = {'credits_order': credits_order, 'name': actors_name, 'gender': actors_gender}\n",
    "for e in range(45476):\n",
    "    for i in cast.iloc[e, 2]:\n",
    "        credits_order.append(i)\n",
    "    for i in cast.iloc[e, 3]:\n",
    "        actors_name.append(i)\n",
    "    for i in cast.iloc[e, 4]:\n",
    "        actors_gender.append(i)\n",
    "actors = pd.DataFrame(actors)\n",
    "print(\"Done\")"
   ]
  },
  {
   "cell_type": "code",
   "execution_count": 75,
   "metadata": {},
   "outputs": [
    {
     "output_type": "execute_result",
     "data": {
      "text/plain": "(562474, 3)"
     },
     "metadata": {},
     "execution_count": 75
    }
   ],
   "source": [
    "actors.shape"
   ]
  },
  {
   "cell_type": "code",
   "execution_count": 76,
   "metadata": {},
   "outputs": [
    {
     "output_type": "execute_result",
     "data": {
      "text/plain": "Bess Flowers         241\nChristopher Lee      148\nJohn Wayne           125\nSamuel L. Jackson    123\nMichael Caine        110\nGérard Depardieu     110\nJohn Carradine       109\nDonald Sutherland    109\nJackie Chan          108\nFrank Welker         107\nName: name, dtype: int64"
     },
     "metadata": {},
     "execution_count": 76
    }
   ],
   "source": [
    "actors['name'].value_counts().head(10)"
   ]
  },
  {
   "cell_type": "markdown",
   "metadata": {},
   "source": [
    "The 10 most prolific actors in this dataset. It must be noted that most of the entries correspond with classic actors; therefore it is difficult to try to establish some kind of popularity measure, as most of these actors are dead."
   ]
  },
  {
   "cell_type": "code",
   "execution_count": 77,
   "metadata": {},
   "outputs": [
    {
     "output_type": "execute_result",
     "data": {
      "text/plain": "2    226713\n0    223964\n1    111797\nName: gender, dtype: int64"
     },
     "metadata": {},
     "execution_count": 77
    }
   ],
   "source": [
    "genders = actors.gender.value_counts()\n",
    "genders"
   ]
  },
  {
   "cell_type": "code",
   "execution_count": 78,
   "metadata": {},
   "outputs": [],
   "source": [
    "actors.gender = actors.gender.apply(gender)"
   ]
  },
  {
   "cell_type": "code",
   "execution_count": 79,
   "metadata": {},
   "outputs": [
    {
     "output_type": "display_data",
     "data": {
      "text/plain": "<Figure size 432x288 with 1 Axes>",
      "image/svg+xml": "<?xml version=\"1.0\" encoding=\"utf-8\" standalone=\"no\"?>\r\n<!DOCTYPE svg PUBLIC \"-//W3C//DTD SVG 1.1//EN\"\r\n  \"http://www.w3.org/Graphics/SVG/1.1/DTD/svg11.dtd\">\r\n<!-- Created with matplotlib (https://matplotlib.org/) -->\r\n<svg height=\"260.64pt\" version=\"1.1\" viewBox=\"0 0 247.521174 260.64\" width=\"247.521174pt\" xmlns=\"http://www.w3.org/2000/svg\" xmlns:xlink=\"http://www.w3.org/1999/xlink\">\r\n <defs>\r\n  <style type=\"text/css\">\r\n*{stroke-linecap:butt;stroke-linejoin:round;}\r\n  </style>\r\n </defs>\r\n <g id=\"figure_1\">\r\n  <g id=\"patch_1\">\r\n   <path d=\"M 0 260.64 \r\nL 247.521174 260.64 \r\nL 247.521174 0 \r\nL 0 0 \r\nz\r\n\" style=\"fill:none;\"/>\r\n  </g>\r\n  <g id=\"axes_1\">\r\n   <g id=\"patch_2\">\r\n    <path d=\"M 212.734119 146.45952 \r\nC 212.734119 127.951897 206.826763 109.918699 195.876319 94.998247 \r\nC 184.925875 80.077795 169.49375 69.035032 151.83772 63.485554 \r\nC 134.18169 57.936076 115.206945 58.164393 97.689557 64.137103 \r\nC 80.17217 70.109812 65.010223 81.520704 54.421964 96.700324 \r\nL 125.758119 146.45952 \r\nL 212.734119 146.45952 \r\nz\r\n\" style=\"fill:#092436;opacity:0.5;stroke:#092436;stroke-linejoin:miter;\"/>\r\n   </g>\r\n   <g id=\"patch_3\">\r\n    <path d=\"M 54.421964 96.700324 \r\nC 43.964141 111.692948 38.494258 129.60758 38.793797 147.884754 \r\nC 39.093337 166.161929 45.147321 183.887699 56.090816 198.529583 \r\nC 67.034311 213.171466 82.320089 223.997298 99.76427 229.46039 \r\nC 117.208451 234.923482 135.938742 234.750654 153.279143 228.966597 \r\nL 125.758119 146.45952 \r\nL 54.421964 96.700324 \r\nz\r\n\" style=\"fill:#4c2604;opacity:0.5;stroke:#4c2604;stroke-linejoin:miter;\"/>\r\n   </g>\r\n   <g id=\"patch_4\">\r\n    <path d=\"M 160.335521 234.051455 \r\nC 177.646821 228.277106 192.709431 217.198362 203.378274 202.392957 \r\nC 214.047116 187.587552 219.790497 169.793329 219.790497 151.544378 \r\nL 132.814497 151.544378 \r\nL 160.335521 234.051455 \r\nz\r\n\" style=\"fill:#0d300d;opacity:0.5;stroke:#0d300d;stroke-linejoin:miter;\"/>\r\n   </g>\r\n   <g id=\"patch_5\">\r\n    <path d=\"M 214.473639 144.72 \r\nC 214.473639 126.212377 208.566283 108.179179 197.615839 93.258727 \r\nC 186.665395 78.338275 171.23327 67.295512 153.57724 61.746034 \r\nC 135.92121 56.196556 116.946465 56.424873 99.429077 62.397583 \r\nC 81.91169 68.370292 66.749743 79.781184 56.161484 94.960804 \r\nL 127.497639 144.72 \r\nL 214.473639 144.72 \r\nz\r\n\" style=\"fill:#1f77b4;\"/>\r\n   </g>\r\n   <g id=\"patch_6\">\r\n    <path d=\"M 56.161484 94.960804 \r\nC 45.703661 109.953428 40.233778 127.86806 40.533317 146.145234 \r\nC 40.832857 164.422409 46.886841 182.148179 57.830336 196.790063 \r\nC 68.773831 211.431946 84.059609 222.257778 101.50379 227.72087 \r\nC 118.947971 233.183962 137.678262 233.011134 155.018663 227.227077 \r\nL 127.497639 144.72 \r\nL 56.161484 94.960804 \r\nz\r\n\" style=\"fill:#ff7f0e;\"/>\r\n   </g>\r\n   <g id=\"patch_7\">\r\n    <path d=\"M 162.075041 232.311935 \r\nC 179.386341 226.537586 194.448951 215.458842 205.117794 200.653437 \r\nC 215.786636 185.848032 221.530017 168.053809 221.530017 149.804858 \r\nL 134.554017 149.804858 \r\nL 162.075041 232.311935 \r\nz\r\n\" style=\"fill:#2ca02c;\"/>\r\n   </g>\r\n   <g id=\"matplotlib.axis_1\"/>\r\n   <g id=\"matplotlib.axis_2\"/>\r\n   <g id=\"text_1\">\r\n    <!-- Male -->\r\n    <defs>\r\n     <path d=\"M 9.8125 72.90625 \r\nL 24.515625 72.90625 \r\nL 43.109375 23.296875 \r\nL 61.8125 72.90625 \r\nL 76.515625 72.90625 \r\nL 76.515625 0 \r\nL 66.890625 0 \r\nL 66.890625 64.015625 \r\nL 48.09375 14.015625 \r\nL 38.1875 14.015625 \r\nL 19.390625 64.015625 \r\nL 19.390625 0 \r\nL 9.8125 0 \r\nz\r\n\" id=\"DejaVuSans-77\"/>\r\n     <path d=\"M 34.28125 27.484375 \r\nQ 23.390625 27.484375 19.1875 25 \r\nQ 14.984375 22.515625 14.984375 16.5 \r\nQ 14.984375 11.71875 18.140625 8.90625 \r\nQ 21.296875 6.109375 26.703125 6.109375 \r\nQ 34.1875 6.109375 38.703125 11.40625 \r\nQ 43.21875 16.703125 43.21875 25.484375 \r\nL 43.21875 27.484375 \r\nz\r\nM 52.203125 31.203125 \r\nL 52.203125 0 \r\nL 43.21875 0 \r\nL 43.21875 8.296875 \r\nQ 40.140625 3.328125 35.546875 0.953125 \r\nQ 30.953125 -1.421875 24.3125 -1.421875 \r\nQ 15.921875 -1.421875 10.953125 3.296875 \r\nQ 6 8.015625 6 15.921875 \r\nQ 6 25.140625 12.171875 29.828125 \r\nQ 18.359375 34.515625 30.609375 34.515625 \r\nL 43.21875 34.515625 \r\nL 43.21875 35.40625 \r\nQ 43.21875 41.609375 39.140625 45 \r\nQ 35.0625 48.390625 27.6875 48.390625 \r\nQ 23 48.390625 18.546875 47.265625 \r\nQ 14.109375 46.140625 10.015625 43.890625 \r\nL 10.015625 52.203125 \r\nQ 14.9375 54.109375 19.578125 55.046875 \r\nQ 24.21875 56 28.609375 56 \r\nQ 40.484375 56 46.34375 49.84375 \r\nQ 52.203125 43.703125 52.203125 31.203125 \r\nz\r\n\" id=\"DejaVuSans-97\"/>\r\n     <path d=\"M 9.421875 75.984375 \r\nL 18.40625 75.984375 \r\nL 18.40625 0 \r\nL 9.421875 0 \r\nz\r\n\" id=\"DejaVuSans-108\"/>\r\n     <path d=\"M 56.203125 29.59375 \r\nL 56.203125 25.203125 \r\nL 14.890625 25.203125 \r\nQ 15.484375 15.921875 20.484375 11.0625 \r\nQ 25.484375 6.203125 34.421875 6.203125 \r\nQ 39.59375 6.203125 44.453125 7.46875 \r\nQ 49.3125 8.734375 54.109375 11.28125 \r\nL 54.109375 2.78125 \r\nQ 49.265625 0.734375 44.1875 -0.34375 \r\nQ 39.109375 -1.421875 33.890625 -1.421875 \r\nQ 20.796875 -1.421875 13.15625 6.1875 \r\nQ 5.515625 13.8125 5.515625 26.8125 \r\nQ 5.515625 40.234375 12.765625 48.109375 \r\nQ 20.015625 56 32.328125 56 \r\nQ 43.359375 56 49.78125 48.890625 \r\nQ 56.203125 41.796875 56.203125 29.59375 \r\nz\r\nM 47.21875 32.234375 \r\nQ 47.125 39.59375 43.09375 43.984375 \r\nQ 39.0625 48.390625 32.421875 48.390625 \r\nQ 24.90625 48.390625 20.390625 44.140625 \r\nQ 15.875 39.890625 15.1875 32.171875 \r\nz\r\n\" id=\"DejaVuSans-101\"/>\r\n    </defs>\r\n    <g transform=\"translate(158.79316 47.910616)scale(0.1 -0.1)\">\r\n     <use xlink:href=\"#DejaVuSans-77\"/>\r\n     <use x=\"86.279297\" xlink:href=\"#DejaVuSans-97\"/>\r\n     <use x=\"147.558594\" xlink:href=\"#DejaVuSans-108\"/>\r\n     <use x=\"175.341797\" xlink:href=\"#DejaVuSans-101\"/>\r\n    </g>\r\n   </g>\r\n   <g id=\"text_2\">\r\n    <!-- 40.3% -->\r\n    <defs>\r\n     <path d=\"M 37.796875 64.3125 \r\nL 12.890625 25.390625 \r\nL 37.796875 25.390625 \r\nz\r\nM 35.203125 72.90625 \r\nL 47.609375 72.90625 \r\nL 47.609375 25.390625 \r\nL 58.015625 25.390625 \r\nL 58.015625 17.1875 \r\nL 47.609375 17.1875 \r\nL 47.609375 0 \r\nL 37.796875 0 \r\nL 37.796875 17.1875 \r\nL 4.890625 17.1875 \r\nL 4.890625 26.703125 \r\nz\r\n\" id=\"DejaVuSans-52\"/>\r\n     <path d=\"M 31.78125 66.40625 \r\nQ 24.171875 66.40625 20.328125 58.90625 \r\nQ 16.5 51.421875 16.5 36.375 \r\nQ 16.5 21.390625 20.328125 13.890625 \r\nQ 24.171875 6.390625 31.78125 6.390625 \r\nQ 39.453125 6.390625 43.28125 13.890625 \r\nQ 47.125 21.390625 47.125 36.375 \r\nQ 47.125 51.421875 43.28125 58.90625 \r\nQ 39.453125 66.40625 31.78125 66.40625 \r\nz\r\nM 31.78125 74.21875 \r\nQ 44.046875 74.21875 50.515625 64.515625 \r\nQ 56.984375 54.828125 56.984375 36.375 \r\nQ 56.984375 17.96875 50.515625 8.265625 \r\nQ 44.046875 -1.421875 31.78125 -1.421875 \r\nQ 19.53125 -1.421875 13.0625 8.265625 \r\nQ 6.59375 17.96875 6.59375 36.375 \r\nQ 6.59375 54.828125 13.0625 64.515625 \r\nQ 19.53125 74.21875 31.78125 74.21875 \r\nz\r\n\" id=\"DejaVuSans-48\"/>\r\n     <path d=\"M 10.6875 12.40625 \r\nL 21 12.40625 \r\nL 21 0 \r\nL 10.6875 0 \r\nz\r\n\" id=\"DejaVuSans-46\"/>\r\n     <path d=\"M 40.578125 39.3125 \r\nQ 47.65625 37.796875 51.625 33 \r\nQ 55.609375 28.21875 55.609375 21.1875 \r\nQ 55.609375 10.40625 48.1875 4.484375 \r\nQ 40.765625 -1.421875 27.09375 -1.421875 \r\nQ 22.515625 -1.421875 17.65625 -0.515625 \r\nQ 12.796875 0.390625 7.625 2.203125 \r\nL 7.625 11.71875 \r\nQ 11.71875 9.328125 16.59375 8.109375 \r\nQ 21.484375 6.890625 26.8125 6.890625 \r\nQ 36.078125 6.890625 40.9375 10.546875 \r\nQ 45.796875 14.203125 45.796875 21.1875 \r\nQ 45.796875 27.640625 41.28125 31.265625 \r\nQ 36.765625 34.90625 28.71875 34.90625 \r\nL 20.21875 34.90625 \r\nL 20.21875 43.015625 \r\nL 29.109375 43.015625 \r\nQ 36.375 43.015625 40.234375 45.921875 \r\nQ 44.09375 48.828125 44.09375 54.296875 \r\nQ 44.09375 59.90625 40.109375 62.90625 \r\nQ 36.140625 65.921875 28.71875 65.921875 \r\nQ 24.65625 65.921875 20.015625 65.03125 \r\nQ 15.375 64.15625 9.8125 62.3125 \r\nL 9.8125 71.09375 \r\nQ 15.4375 72.65625 20.34375 73.4375 \r\nQ 25.25 74.21875 29.59375 74.21875 \r\nQ 40.828125 74.21875 47.359375 69.109375 \r\nQ 53.90625 64.015625 53.90625 55.328125 \r\nQ 53.90625 49.265625 50.4375 45.09375 \r\nQ 46.96875 40.921875 40.578125 39.3125 \r\nz\r\n\" id=\"DejaVuSans-51\"/>\r\n     <path d=\"M 72.703125 32.078125 \r\nQ 68.453125 32.078125 66.03125 28.46875 \r\nQ 63.625 24.859375 63.625 18.40625 \r\nQ 63.625 12.0625 66.03125 8.421875 \r\nQ 68.453125 4.78125 72.703125 4.78125 \r\nQ 76.859375 4.78125 79.265625 8.421875 \r\nQ 81.6875 12.0625 81.6875 18.40625 \r\nQ 81.6875 24.8125 79.265625 28.4375 \r\nQ 76.859375 32.078125 72.703125 32.078125 \r\nz\r\nM 72.703125 38.28125 \r\nQ 80.421875 38.28125 84.953125 32.90625 \r\nQ 89.5 27.546875 89.5 18.40625 \r\nQ 89.5 9.28125 84.9375 3.921875 \r\nQ 80.375 -1.421875 72.703125 -1.421875 \r\nQ 64.890625 -1.421875 60.34375 3.921875 \r\nQ 55.8125 9.28125 55.8125 18.40625 \r\nQ 55.8125 27.59375 60.375 32.9375 \r\nQ 64.9375 38.28125 72.703125 38.28125 \r\nz\r\nM 22.3125 68.015625 \r\nQ 18.109375 68.015625 15.6875 64.375 \r\nQ 13.28125 60.75 13.28125 54.390625 \r\nQ 13.28125 47.953125 15.671875 44.328125 \r\nQ 18.0625 40.71875 22.3125 40.71875 \r\nQ 26.5625 40.71875 28.96875 44.328125 \r\nQ 31.390625 47.953125 31.390625 54.390625 \r\nQ 31.390625 60.6875 28.953125 64.34375 \r\nQ 26.515625 68.015625 22.3125 68.015625 \r\nz\r\nM 66.40625 74.21875 \r\nL 74.21875 74.21875 \r\nL 28.609375 -1.421875 \r\nL 20.796875 -1.421875 \r\nz\r\nM 22.3125 74.21875 \r\nQ 30.03125 74.21875 34.609375 68.875 \r\nQ 39.203125 63.53125 39.203125 54.390625 \r\nQ 39.203125 45.171875 34.640625 39.84375 \r\nQ 30.078125 34.515625 22.3125 34.515625 \r\nQ 14.546875 34.515625 10.03125 39.859375 \r\nQ 5.515625 45.21875 5.515625 54.390625 \r\nQ 5.515625 63.484375 10.046875 68.84375 \r\nQ 14.59375 74.21875 22.3125 74.21875 \r\nz\r\n\" id=\"DejaVuSans-37\"/>\r\n    </defs>\r\n    <g transform=\"translate(124.653846 105.992392)scale(0.1 -0.1)\">\r\n     <use xlink:href=\"#DejaVuSans-52\"/>\r\n     <use x=\"63.623047\" xlink:href=\"#DejaVuSans-48\"/>\r\n     <use x=\"127.246094\" xlink:href=\"#DejaVuSans-46\"/>\r\n     <use x=\"159.033203\" xlink:href=\"#DejaVuSans-51\"/>\r\n     <use x=\"222.65625\" xlink:href=\"#DejaVuSans-37\"/>\r\n    </g>\r\n   </g>\r\n   <g id=\"text_3\">\r\n    <!-- Female -->\r\n    <defs>\r\n     <path d=\"M 9.8125 72.90625 \r\nL 51.703125 72.90625 \r\nL 51.703125 64.59375 \r\nL 19.671875 64.59375 \r\nL 19.671875 43.109375 \r\nL 48.578125 43.109375 \r\nL 48.578125 34.8125 \r\nL 19.671875 34.8125 \r\nL 19.671875 0 \r\nL 9.8125 0 \r\nz\r\n\" id=\"DejaVuSans-70\"/>\r\n     <path d=\"M 52 44.1875 \r\nQ 55.375 50.25 60.0625 53.125 \r\nQ 64.75 56 71.09375 56 \r\nQ 79.640625 56 84.28125 50.015625 \r\nQ 88.921875 44.046875 88.921875 33.015625 \r\nL 88.921875 0 \r\nL 79.890625 0 \r\nL 79.890625 32.71875 \r\nQ 79.890625 40.578125 77.09375 44.375 \r\nQ 74.3125 48.1875 68.609375 48.1875 \r\nQ 61.625 48.1875 57.5625 43.546875 \r\nQ 53.515625 38.921875 53.515625 30.90625 \r\nL 53.515625 0 \r\nL 44.484375 0 \r\nL 44.484375 32.71875 \r\nQ 44.484375 40.625 41.703125 44.40625 \r\nQ 38.921875 48.1875 33.109375 48.1875 \r\nQ 26.21875 48.1875 22.15625 43.53125 \r\nQ 18.109375 38.875 18.109375 30.90625 \r\nL 18.109375 0 \r\nL 9.078125 0 \r\nL 9.078125 54.6875 \r\nL 18.109375 54.6875 \r\nL 18.109375 46.1875 \r\nQ 21.1875 51.21875 25.484375 53.609375 \r\nQ 29.78125 56 35.6875 56 \r\nQ 41.65625 56 45.828125 52.96875 \r\nQ 50 49.953125 52 44.1875 \r\nz\r\n\" id=\"DejaVuSans-109\"/>\r\n    </defs>\r\n    <g transform=\"translate(7.2 209.96345)scale(0.1 -0.1)\">\r\n     <use xlink:href=\"#DejaVuSans-70\"/>\r\n     <use x=\"57.441406\" xlink:href=\"#DejaVuSans-101\"/>\r\n     <use x=\"118.964844\" xlink:href=\"#DejaVuSans-109\"/>\r\n     <use x=\"216.376953\" xlink:href=\"#DejaVuSans-97\"/>\r\n     <use x=\"277.65625\" xlink:href=\"#DejaVuSans-108\"/>\r\n     <use x=\"305.439453\" xlink:href=\"#DejaVuSans-101\"/>\r\n    </g>\r\n   </g>\r\n   <g id=\"text_4\">\r\n    <!-- 39.8% -->\r\n    <defs>\r\n     <path d=\"M 10.984375 1.515625 \r\nL 10.984375 10.5 \r\nQ 14.703125 8.734375 18.5 7.8125 \r\nQ 22.3125 6.890625 25.984375 6.890625 \r\nQ 35.75 6.890625 40.890625 13.453125 \r\nQ 46.046875 20.015625 46.78125 33.40625 \r\nQ 43.953125 29.203125 39.59375 26.953125 \r\nQ 35.25 24.703125 29.984375 24.703125 \r\nQ 19.046875 24.703125 12.671875 31.3125 \r\nQ 6.296875 37.9375 6.296875 49.421875 \r\nQ 6.296875 60.640625 12.9375 67.421875 \r\nQ 19.578125 74.21875 30.609375 74.21875 \r\nQ 43.265625 74.21875 49.921875 64.515625 \r\nQ 56.59375 54.828125 56.59375 36.375 \r\nQ 56.59375 19.140625 48.40625 8.859375 \r\nQ 40.234375 -1.421875 26.421875 -1.421875 \r\nQ 22.703125 -1.421875 18.890625 -0.6875 \r\nQ 15.09375 0.046875 10.984375 1.515625 \r\nz\r\nM 30.609375 32.421875 \r\nQ 37.25 32.421875 41.125 36.953125 \r\nQ 45.015625 41.5 45.015625 49.421875 \r\nQ 45.015625 57.28125 41.125 61.84375 \r\nQ 37.25 66.40625 30.609375 66.40625 \r\nQ 23.96875 66.40625 20.09375 61.84375 \r\nQ 16.21875 57.28125 16.21875 49.421875 \r\nQ 16.21875 41.5 20.09375 36.953125 \r\nQ 23.96875 32.421875 30.609375 32.421875 \r\nz\r\n\" id=\"DejaVuSans-57\"/>\r\n     <path d=\"M 31.78125 34.625 \r\nQ 24.75 34.625 20.71875 30.859375 \r\nQ 16.703125 27.09375 16.703125 20.515625 \r\nQ 16.703125 13.921875 20.71875 10.15625 \r\nQ 24.75 6.390625 31.78125 6.390625 \r\nQ 38.8125 6.390625 42.859375 10.171875 \r\nQ 46.921875 13.96875 46.921875 20.515625 \r\nQ 46.921875 27.09375 42.890625 30.859375 \r\nQ 38.875 34.625 31.78125 34.625 \r\nz\r\nM 21.921875 38.8125 \r\nQ 15.578125 40.375 12.03125 44.71875 \r\nQ 8.5 49.078125 8.5 55.328125 \r\nQ 8.5 64.0625 14.71875 69.140625 \r\nQ 20.953125 74.21875 31.78125 74.21875 \r\nQ 42.671875 74.21875 48.875 69.140625 \r\nQ 55.078125 64.0625 55.078125 55.328125 \r\nQ 55.078125 49.078125 51.53125 44.71875 \r\nQ 48 40.375 41.703125 38.8125 \r\nQ 48.828125 37.15625 52.796875 32.3125 \r\nQ 56.78125 27.484375 56.78125 20.515625 \r\nQ 56.78125 9.90625 50.3125 4.234375 \r\nQ 43.84375 -1.421875 31.78125 -1.421875 \r\nQ 19.734375 -1.421875 13.25 4.234375 \r\nQ 6.78125 9.90625 6.78125 20.515625 \r\nQ 6.78125 27.484375 10.78125 32.3125 \r\nQ 14.796875 37.15625 21.921875 38.8125 \r\nz\r\nM 18.3125 54.390625 \r\nQ 18.3125 48.734375 21.84375 45.5625 \r\nQ 25.390625 42.390625 31.78125 42.390625 \r\nQ 38.140625 42.390625 41.71875 45.5625 \r\nQ 45.3125 48.734375 45.3125 54.390625 \r\nQ 45.3125 60.0625 41.71875 63.234375 \r\nQ 38.140625 66.40625 31.78125 66.40625 \r\nQ 25.390625 66.40625 21.84375 63.234375 \r\nQ 18.3125 60.0625 18.3125 54.390625 \r\nz\r\n\" id=\"DejaVuSans-56\"/>\r\n    </defs>\r\n    <g transform=\"translate(76.780394 173.514406)scale(0.1 -0.1)\">\r\n     <use xlink:href=\"#DejaVuSans-51\"/>\r\n     <use x=\"63.623047\" xlink:href=\"#DejaVuSans-57\"/>\r\n     <use x=\"127.246094\" xlink:href=\"#DejaVuSans-46\"/>\r\n     <use x=\"159.033203\" xlink:href=\"#DejaVuSans-56\"/>\r\n     <use x=\"222.65625\" xlink:href=\"#DejaVuSans-37\"/>\r\n    </g>\r\n   </g>\r\n   <g id=\"text_5\">\r\n    <!-- NaN -->\r\n    <defs>\r\n     <path d=\"M 9.8125 72.90625 \r\nL 23.09375 72.90625 \r\nL 55.421875 11.921875 \r\nL 55.421875 72.90625 \r\nL 64.984375 72.90625 \r\nL 64.984375 0 \r\nL 51.703125 0 \r\nL 19.390625 60.984375 \r\nL 19.390625 0 \r\nL 9.8125 0 \r\nz\r\n\" id=\"DejaVuSans-78\"/>\r\n    </defs>\r\n    <g transform=\"translate(219.230549 213.582528)scale(0.1 -0.1)\">\r\n     <use xlink:href=\"#DejaVuSans-78\"/>\r\n     <use x=\"74.804688\" xlink:href=\"#DejaVuSans-97\"/>\r\n     <use x=\"136.083984\" xlink:href=\"#DejaVuSans-78\"/>\r\n    </g>\r\n   </g>\r\n   <g id=\"text_6\">\r\n    <!-- 19.9% -->\r\n    <defs>\r\n     <path d=\"M 12.40625 8.296875 \r\nL 28.515625 8.296875 \r\nL 28.515625 63.921875 \r\nL 10.984375 60.40625 \r\nL 10.984375 69.390625 \r\nL 28.421875 72.90625 \r\nL 38.28125 72.90625 \r\nL 38.28125 8.296875 \r\nL 54.390625 8.296875 \r\nL 54.390625 0 \r\nL 12.40625 0 \r\nz\r\n\" id=\"DejaVuSans-49\"/>\r\n    </defs>\r\n    <g transform=\"translate(153.952311 177.988522)scale(0.1 -0.1)\">\r\n     <use xlink:href=\"#DejaVuSans-49\"/>\r\n     <use x=\"63.623047\" xlink:href=\"#DejaVuSans-57\"/>\r\n     <use x=\"127.246094\" xlink:href=\"#DejaVuSans-46\"/>\r\n     <use x=\"159.033203\" xlink:href=\"#DejaVuSans-57\"/>\r\n     <use x=\"222.65625\" xlink:href=\"#DejaVuSans-37\"/>\r\n    </g>\r\n   </g>\r\n  </g>\r\n  <g id=\"text_7\">\r\n   <!-- Gender ratio -->\r\n   <defs>\r\n    <path d=\"M 59.515625 10.40625 \r\nL 59.515625 29.984375 \r\nL 43.40625 29.984375 \r\nL 43.40625 38.09375 \r\nL 69.28125 38.09375 \r\nL 69.28125 6.78125 \r\nQ 63.578125 2.734375 56.6875 0.65625 \r\nQ 49.8125 -1.421875 42 -1.421875 \r\nQ 24.90625 -1.421875 15.25 8.5625 \r\nQ 5.609375 18.5625 5.609375 36.375 \r\nQ 5.609375 54.25 15.25 64.234375 \r\nQ 24.90625 74.21875 42 74.21875 \r\nQ 49.125 74.21875 55.546875 72.453125 \r\nQ 61.96875 70.703125 67.390625 67.28125 \r\nL 67.390625 56.78125 \r\nQ 61.921875 61.421875 55.765625 63.765625 \r\nQ 49.609375 66.109375 42.828125 66.109375 \r\nQ 29.4375 66.109375 22.71875 58.640625 \r\nQ 16.015625 51.171875 16.015625 36.375 \r\nQ 16.015625 21.625 22.71875 14.15625 \r\nQ 29.4375 6.6875 42.828125 6.6875 \r\nQ 48.046875 6.6875 52.140625 7.59375 \r\nQ 56.25 8.5 59.515625 10.40625 \r\nz\r\n\" id=\"DejaVuSans-71\"/>\r\n    <path d=\"M 54.890625 33.015625 \r\nL 54.890625 0 \r\nL 45.90625 0 \r\nL 45.90625 32.71875 \r\nQ 45.90625 40.484375 42.875 44.328125 \r\nQ 39.84375 48.1875 33.796875 48.1875 \r\nQ 26.515625 48.1875 22.3125 43.546875 \r\nQ 18.109375 38.921875 18.109375 30.90625 \r\nL 18.109375 0 \r\nL 9.078125 0 \r\nL 9.078125 54.6875 \r\nL 18.109375 54.6875 \r\nL 18.109375 46.1875 \r\nQ 21.34375 51.125 25.703125 53.5625 \r\nQ 30.078125 56 35.796875 56 \r\nQ 45.21875 56 50.046875 50.171875 \r\nQ 54.890625 44.34375 54.890625 33.015625 \r\nz\r\n\" id=\"DejaVuSans-110\"/>\r\n    <path d=\"M 45.40625 46.390625 \r\nL 45.40625 75.984375 \r\nL 54.390625 75.984375 \r\nL 54.390625 0 \r\nL 45.40625 0 \r\nL 45.40625 8.203125 \r\nQ 42.578125 3.328125 38.25 0.953125 \r\nQ 33.9375 -1.421875 27.875 -1.421875 \r\nQ 17.96875 -1.421875 11.734375 6.484375 \r\nQ 5.515625 14.40625 5.515625 27.296875 \r\nQ 5.515625 40.1875 11.734375 48.09375 \r\nQ 17.96875 56 27.875 56 \r\nQ 33.9375 56 38.25 53.625 \r\nQ 42.578125 51.265625 45.40625 46.390625 \r\nz\r\nM 14.796875 27.296875 \r\nQ 14.796875 17.390625 18.875 11.75 \r\nQ 22.953125 6.109375 30.078125 6.109375 \r\nQ 37.203125 6.109375 41.296875 11.75 \r\nQ 45.40625 17.390625 45.40625 27.296875 \r\nQ 45.40625 37.203125 41.296875 42.84375 \r\nQ 37.203125 48.484375 30.078125 48.484375 \r\nQ 22.953125 48.484375 18.875 42.84375 \r\nQ 14.796875 37.203125 14.796875 27.296875 \r\nz\r\n\" id=\"DejaVuSans-100\"/>\r\n    <path d=\"M 41.109375 46.296875 \r\nQ 39.59375 47.171875 37.8125 47.578125 \r\nQ 36.03125 48 33.890625 48 \r\nQ 26.265625 48 22.1875 43.046875 \r\nQ 18.109375 38.09375 18.109375 28.8125 \r\nL 18.109375 0 \r\nL 9.078125 0 \r\nL 9.078125 54.6875 \r\nL 18.109375 54.6875 \r\nL 18.109375 46.1875 \r\nQ 20.953125 51.171875 25.484375 53.578125 \r\nQ 30.03125 56 36.53125 56 \r\nQ 37.453125 56 38.578125 55.875 \r\nQ 39.703125 55.765625 41.0625 55.515625 \r\nz\r\n\" id=\"DejaVuSans-114\"/>\r\n    <path id=\"DejaVuSans-32\"/>\r\n    <path d=\"M 18.3125 70.21875 \r\nL 18.3125 54.6875 \r\nL 36.8125 54.6875 \r\nL 36.8125 47.703125 \r\nL 18.3125 47.703125 \r\nL 18.3125 18.015625 \r\nQ 18.3125 11.328125 20.140625 9.421875 \r\nQ 21.96875 7.515625 27.59375 7.515625 \r\nL 36.8125 7.515625 \r\nL 36.8125 0 \r\nL 27.59375 0 \r\nQ 17.1875 0 13.234375 3.875 \r\nQ 9.28125 7.765625 9.28125 18.015625 \r\nL 9.28125 47.703125 \r\nL 2.6875 47.703125 \r\nL 2.6875 54.6875 \r\nL 9.28125 54.6875 \r\nL 9.28125 70.21875 \r\nz\r\n\" id=\"DejaVuSans-116\"/>\r\n    <path d=\"M 9.421875 54.6875 \r\nL 18.40625 54.6875 \r\nL 18.40625 0 \r\nL 9.421875 0 \r\nz\r\nM 9.421875 75.984375 \r\nL 18.40625 75.984375 \r\nL 18.40625 64.59375 \r\nL 9.421875 64.59375 \r\nz\r\n\" id=\"DejaVuSans-105\"/>\r\n    <path d=\"M 30.609375 48.390625 \r\nQ 23.390625 48.390625 19.1875 42.75 \r\nQ 14.984375 37.109375 14.984375 27.296875 \r\nQ 14.984375 17.484375 19.15625 11.84375 \r\nQ 23.34375 6.203125 30.609375 6.203125 \r\nQ 37.796875 6.203125 41.984375 11.859375 \r\nQ 46.1875 17.53125 46.1875 27.296875 \r\nQ 46.1875 37.015625 41.984375 42.703125 \r\nQ 37.796875 48.390625 30.609375 48.390625 \r\nz\r\nM 30.609375 56 \r\nQ 42.328125 56 49.015625 48.375 \r\nQ 55.71875 40.765625 55.71875 27.296875 \r\nQ 55.71875 13.875 49.015625 6.21875 \r\nQ 42.328125 -1.421875 30.609375 -1.421875 \r\nQ 18.84375 -1.421875 12.171875 6.21875 \r\nQ 5.515625 13.875 5.515625 27.296875 \r\nQ 5.515625 40.765625 12.171875 48.375 \r\nQ 18.84375 56 30.609375 56 \r\nz\r\n\" id=\"DejaVuSans-111\"/>\r\n   </defs>\r\n   <g transform=\"translate(84.246077 16.318125)scale(0.12 -0.12)\">\r\n    <use xlink:href=\"#DejaVuSans-71\"/>\r\n    <use x=\"77.490234\" xlink:href=\"#DejaVuSans-101\"/>\r\n    <use x=\"139.013672\" xlink:href=\"#DejaVuSans-110\"/>\r\n    <use x=\"202.392578\" xlink:href=\"#DejaVuSans-100\"/>\r\n    <use x=\"265.869141\" xlink:href=\"#DejaVuSans-101\"/>\r\n    <use x=\"327.392578\" xlink:href=\"#DejaVuSans-114\"/>\r\n    <use x=\"368.505859\" xlink:href=\"#DejaVuSans-32\"/>\r\n    <use x=\"400.292969\" xlink:href=\"#DejaVuSans-114\"/>\r\n    <use x=\"441.40625\" xlink:href=\"#DejaVuSans-97\"/>\r\n    <use x=\"502.685547\" xlink:href=\"#DejaVuSans-116\"/>\r\n    <use x=\"541.894531\" xlink:href=\"#DejaVuSans-105\"/>\r\n    <use x=\"569.677734\" xlink:href=\"#DejaVuSans-111\"/>\r\n   </g>\r\n  </g>\r\n </g>\r\n</svg>\r\n",
      "image/png": "[encoded data removed]"
     },
     "metadata": {}
    }
   ],
   "source": [
    "labels = 'Male', 'Female', 'NaN'\n",
    "explode = 0, 0, 0.1\n",
    "\n",
    "plt.pie(genders,  autopct='%1.1f%%', startangle=0, explode= explode, labels= labels, shadow= True, pctdistance = 0.5, labeldistance = 1.2)\n",
    "plt.suptitle('Gender ratio', fontsize=12)\n",
    "\n",
    "plt.show()"
   ]
  },
  {
   "cell_type": "markdown",
   "metadata": {},
   "source": [
    "In order to resolve the NaN problem, it was thought that a solution involving the gender asotiation around names was a quick and easy one. As any names has a certain gender assigned to it. For that pourpose a function was developed (gender_search) and a new df created: dfnu (DataFrame Names Unique).\n",
    "\n",
    "Sadly, it has been realised that a large portion of the NaN values correspond with \"foreing\" actors and actresses. Foreign not in the sense of nationality, but language, as is understood in the \"metadata\" csv.\n",
    "\n",
    "Knowing that dfnu contains a majority of english names of both genders (as it originates from the scottish National Records), it will be used to determine the number of english and none-english names."
   ]
  },
  {
   "cell_type": "code",
   "execution_count": 80,
   "metadata": {},
   "outputs": [
    {
     "output_type": "stream",
     "name": "stdout",
     "text": "Names in dfnu: 0\nNames not in dfnu: 562474\n"
    }
   ],
   "source": [
    "name_search(actors)"
   ]
  },
  {
   "cell_type": "code",
   "execution_count": 81,
   "metadata": {},
   "outputs": [
    {
     "output_type": "execute_result",
     "data": {
      "text/plain": "Male      226713\n0         223964\nFemale    111797\nName: gender, dtype: int64"
     },
     "metadata": {},
     "execution_count": 81
    }
   ],
   "source": [
    "genders = actors.gender.value_counts()\n",
    "genders"
   ]
  },
  {
   "cell_type": "code",
   "execution_count": 82,
   "metadata": {},
   "outputs": [
    {
     "output_type": "stream",
     "name": "stdout",
     "text": "Top 5 billing actors:\ncredits_order  gender\n0              Male      21322\n               Female     8389\n               0          7036\n1              Male      17945\n               Female    13061\n               0         10583\n2              Male      17823\n               0         11434\n               Female    11167\n3              Male      17121\nName: gender, dtype: int64\n\nTotal sum for billing level:\ncredits_order\n0    36747\n1    41589\n2    40424\n3    39300\n4    37196\nName: gender, dtype: int64\n"
    }
   ],
   "source": [
    "top_5_actors = actors.groupby('credits_order')['gender'].value_counts().head(10)\n",
    "top_5_actors_2 = actors.groupby('credits_order')['gender'].count().head(5)\n",
    "\n",
    "print(f\"Top 5 billing actors:\\n{top_5_actors}\\n\\nTotal sum for billing level:\\n{top_5_actors_2}\")"
   ]
  },
  {
   "cell_type": "markdown",
   "metadata": {},
   "source": [
    "## Credits"
   ]
  },
  {
   "cell_type": "code",
   "execution_count": 83,
   "metadata": {},
   "outputs": [],
   "source": [
    "# crew.iloc[0,0]\n",
    "# If scrpit already initialized use:\n",
    "# crew.iloc[0,1]"
   ]
  },
  {
   "cell_type": "code",
   "execution_count": 84,
   "metadata": {},
   "outputs": [],
   "source": [
    "# Lambdas for data extraction. The return data is introduced into a list in order to better operate with it in the future. They cover the director, producer and writer roles. Though many more remain unexplored.\n",
    "\n",
    "director_name = lambda x: [i['name']for i in x if i['department'] == 'Directing']\n",
    "director_gender = lambda x: [i['gender']for i in x if i['department'] == 'Directing']\n",
    "\n",
    "producer_name = lambda x: [i['name']for i in x if i['department'] == 'Production']\n",
    "producer_gender = lambda x: [i['gender']for i in x if i['department'] == 'Production']\n",
    "\n",
    "writer_name = lambda x: [i['name']for i in x if i['department'] == 'Writing']\n",
    "writer_gender = lambda x: [i['gender']for i in x if i['department'] == 'Writing']"
   ]
  },
  {
   "cell_type": "code",
   "execution_count": 85,
   "metadata": {},
   "outputs": [],
   "source": [
    "crew['crew'] = crew['crew'].apply(ast.literal_eval)\n",
    "crew['crew_len'] = crew['crew'].apply(lambda x: len(x))\n",
    "\n",
    "# director data\n",
    "crew['director'] = crew['crew'].apply(director_name)\n",
    "crew['director_gender'] = crew['crew'].apply(director_gender)\n",
    "\n",
    "# producer data\n",
    "crew['producer'] = crew['crew'].apply(producer_name)\n",
    "crew['producer_gender'] = crew['crew'].apply(producer_gender)\n",
    "\n",
    "# writer data\n",
    "crew['writer'] = crew['crew'].apply(writer_name)\n",
    "crew['wirter_gender'] = crew['crew'].apply(writer_gender)"
   ]
  },
  {
   "cell_type": "code",
   "execution_count": 86,
   "metadata": {},
   "outputs": [
    {
     "output_type": "execute_result",
     "data": {
      "text/plain": "                                                     crew  crew_len  \\\nid                                                                    \n862     [{'credit_id': '52fe4284c3a36847f8024f49', 'de...       106   \n8844    [{'credit_id': '52fe44bfc3a36847f80a7cd1', 'de...        16   \n15602   [{'credit_id': '52fe466a9251416c75077a89', 'de...         4   \n31357   [{'credit_id': '52fe44779251416c91011acb', 'de...        10   \n11862   [{'credit_id': '52fe44959251416c75039ed7', 'de...         7   \n...                                                   ...       ...   \n439050  [{'credit_id': '5894a97d925141426c00818c', 'de...         9   \n111109  [{'credit_id': '52fe4af1c3a36847f81e9b15', 'de...         6   \n67758   [{'credit_id': '52fe4776c3a368484e0c8387', 'de...         5   \n227506  [{'credit_id': '533bccebc3a36844cf0011a7', 'de...         2   \n461257  [{'credit_id': '593e676c92514105b702e68e', 'de...         1   \n\n                                            director director_gender  \\\nid                                                                     \n862     [John Lasseter, Roman Figun, Desirée Mourad]       [2, 0, 0]   \n8844                                  [Joe Johnston]             [2]   \n15602                                [Howard Deutch]             [2]   \n31357                              [Forest Whitaker]             [2]   \n11862                                [Charles Shyer]             [2]   \n...                                              ...             ...   \n439050                            [Hamid Nematollah]             [0]   \n111109                                    [Lav Diaz]             [0]   \n67758                               [Mark L. Lester]             [2]   \n227506                            [Yakov Protazanov]             [0]   \n461257                               [Daisy Asquith]             [0]   \n\n                                                 producer  \\\nid                                                          \n862     [Bonnie Arnold, Ed Catmull, Ralph Guggenheim, ...   \n8844    [Larry J. Franco, Nancy Foy, Scott Kroopf, Ted...   \n15602                                                  []   \n31357   [Ronald Bass, Ezra Swerdlow, Deborah Schindler...   \n11862                                      [Nancy Meyers]   \n...                                                   ...   \n439050                                 [Hamid Nematollah]   \n111109                                                 []   \n67758                                                  []   \n227506                              [Joseph N. Ermolieff]   \n461257                                                 []   \n\n                    producer_gender  \\\nid                                    \n862     [1, 0, 2, 2, 0, 0, 0, 1, 0]   \n8844             [2, 0, 2, 2, 2, 2]   \n15602                            []   \n31357               [0, 2, 1, 0, 0]   \n11862                           [1]   \n...                             ...   \n439050                          [0]   \n111109                           []   \n67758                            []   \n227506                          [2]   \n461257                           []   \n\n                                                   writer  \\\nid                                                          \n862     [Joss Whedon, Andrew Stanton, Joel Cohen, Alec...   \n8844    [Jonathan Hensleigh, Chris van Allsburg, Greg ...   \n15602          [Mark Steven Johnson, Mark Steven Johnson]   \n31357       [Ronald Bass, Terry McMillan, Terry McMillan]   \n11862                      [Nancy Meyers, Albert Hackett]   \n...                                                   ...   \n439050                                                 []   \n111109                                         [Lav Diaz]   \n67758            [C. Courtney Joyner, Jeffrey Goldenberg]   \n227506                                                 []   \n461257                                                 []   \n\n                   wirter_gender  \nid                                \n862     [2, 2, 2, 0, 2, 2, 0, 2]  \n8844                [2, 2, 2, 2]  \n15602                     [2, 2]  \n31357                  [0, 0, 0]  \n11862                     [1, 2]  \n...                          ...  \n439050                        []  \n111109                       [0]  \n67758                     [2, 2]  \n227506                        []  \n461257                        []  \n\n[45476 rows x 8 columns]",
      "text/html": "<div>\n<style scoped>\n    .dataframe tbody tr th:only-of-type {\n        vertical-align: middle;\n    }\n\n    .dataframe tbody tr th {\n        vertical-align: top;\n    }\n\n    .dataframe thead th {\n        text-align: right;\n    }\n</style>\n<table border=\"1\" class=\"dataframe\">\n  <thead>\n    <tr style=\"text-align: right;\">\n      <th></th>\n      <th>crew</th>\n      <th>crew_len</th>\n      <th>director</th>\n      <th>director_gender</th>\n      <th>producer</th>\n      <th>producer_gender</th>\n      <th>writer</th>\n      <th>wirter_gender</th>\n    </tr>\n    <tr>\n      <th>id</th>\n      <th></th>\n      <th></th>\n      <th></th>\n      <th></th>\n      <th></th>\n      <th></th>\n      <th></th>\n      <th></th>\n    </tr>\n  </thead>\n  <tbody>\n    <tr>\n      <td>862</td>\n      <td>[{'credit_id': '52fe4284c3a36847f8024f49', 'de...</td>\n      <td>106</td>\n      <td>[John Lasseter, Roman Figun, Desirée Mourad]</td>\n      <td>[2, 0, 0]</td>\n      <td>[Bonnie Arnold, Ed Catmull, Ralph Guggenheim, ...</td>\n      <td>[1, 0, 2, 2, 0, 0, 0, 1, 0]</td>\n      <td>[Joss Whedon, Andrew Stanton, Joel Cohen, Alec...</td>\n      <td>[2, 2, 2, 0, 2, 2, 0, 2]</td>\n    </tr>\n    <tr>\n      <td>8844</td>\n      <td>[{'credit_id': '52fe44bfc3a36847f80a7cd1', 'de...</td>\n      <td>16</td>\n      <td>[Joe Johnston]</td>\n      <td>[2]</td>\n      <td>[Larry J. Franco, Nancy Foy, Scott Kroopf, Ted...</td>\n      <td>[2, 0, 2, 2, 2, 2]</td>\n      <td>[Jonathan Hensleigh, Chris van Allsburg, Greg ...</td>\n      <td>[2, 2, 2, 2]</td>\n    </tr>\n    <tr>\n      <td>15602</td>\n      <td>[{'credit_id': '52fe466a9251416c75077a89', 'de...</td>\n      <td>4</td>\n      <td>[Howard Deutch]</td>\n      <td>[2]</td>\n      <td>[]</td>\n      <td>[]</td>\n      <td>[Mark Steven Johnson, Mark Steven Johnson]</td>\n      <td>[2, 2]</td>\n    </tr>\n    <tr>\n      <td>31357</td>\n      <td>[{'credit_id': '52fe44779251416c91011acb', 'de...</td>\n      <td>10</td>\n      <td>[Forest Whitaker]</td>\n      <td>[2]</td>\n      <td>[Ronald Bass, Ezra Swerdlow, Deborah Schindler...</td>\n      <td>[0, 2, 1, 0, 0]</td>\n      <td>[Ronald Bass, Terry McMillan, Terry McMillan]</td>\n      <td>[0, 0, 0]</td>\n    </tr>\n    <tr>\n      <td>11862</td>\n      <td>[{'credit_id': '52fe44959251416c75039ed7', 'de...</td>\n      <td>7</td>\n      <td>[Charles Shyer]</td>\n      <td>[2]</td>\n      <td>[Nancy Meyers]</td>\n      <td>[1]</td>\n      <td>[Nancy Meyers, Albert Hackett]</td>\n      <td>[1, 2]</td>\n    </tr>\n    <tr>\n      <td>...</td>\n      <td>...</td>\n      <td>...</td>\n      <td>...</td>\n      <td>...</td>\n      <td>...</td>\n      <td>...</td>\n      <td>...</td>\n      <td>...</td>\n    </tr>\n    <tr>\n      <td>439050</td>\n      <td>[{'credit_id': '5894a97d925141426c00818c', 'de...</td>\n      <td>9</td>\n      <td>[Hamid Nematollah]</td>\n      <td>[0]</td>\n      <td>[Hamid Nematollah]</td>\n      <td>[0]</td>\n      <td>[]</td>\n      <td>[]</td>\n    </tr>\n    <tr>\n      <td>111109</td>\n      <td>[{'credit_id': '52fe4af1c3a36847f81e9b15', 'de...</td>\n      <td>6</td>\n      <td>[Lav Diaz]</td>\n      <td>[0]</td>\n      <td>[]</td>\n      <td>[]</td>\n      <td>[Lav Diaz]</td>\n      <td>[0]</td>\n    </tr>\n    <tr>\n      <td>67758</td>\n      <td>[{'credit_id': '52fe4776c3a368484e0c8387', 'de...</td>\n      <td>5</td>\n      <td>[Mark L. Lester]</td>\n      <td>[2]</td>\n      <td>[]</td>\n      <td>[]</td>\n      <td>[C. Courtney Joyner, Jeffrey Goldenberg]</td>\n      <td>[2, 2]</td>\n    </tr>\n    <tr>\n      <td>227506</td>\n      <td>[{'credit_id': '533bccebc3a36844cf0011a7', 'de...</td>\n      <td>2</td>\n      <td>[Yakov Protazanov]</td>\n      <td>[0]</td>\n      <td>[Joseph N. Ermolieff]</td>\n      <td>[2]</td>\n      <td>[]</td>\n      <td>[]</td>\n    </tr>\n    <tr>\n      <td>461257</td>\n      <td>[{'credit_id': '593e676c92514105b702e68e', 'de...</td>\n      <td>1</td>\n      <td>[Daisy Asquith]</td>\n      <td>[0]</td>\n      <td>[]</td>\n      <td>[]</td>\n      <td>[]</td>\n      <td>[]</td>\n    </tr>\n  </tbody>\n</table>\n<p>45476 rows × 8 columns</p>\n</div>"
     },
     "metadata": {},
     "execution_count": 86
    }
   ],
   "source": [
    "crew"
   ]
  },
  {
   "cell_type": "code",
   "execution_count": 87,
   "metadata": {},
   "outputs": [],
   "source": [
    "crew = crew.reset_index()"
   ]
  },
  {
   "cell_type": "code",
   "execution_count": 88,
   "metadata": {},
   "outputs": [
    {
     "output_type": "stream",
     "name": "stdout",
     "text": "<class 'pandas.core.frame.DataFrame'>\nRangeIndex: 45476 entries, 0 to 45475\nData columns (total 9 columns):\nid                 45476 non-null int64\ncrew               45476 non-null object\ncrew_len           45476 non-null int64\ndirector           45476 non-null object\ndirector_gender    45476 non-null object\nproducer           45476 non-null object\nproducer_gender    45476 non-null object\nwriter             45476 non-null object\nwirter_gender      45476 non-null object\ndtypes: int64(2), object(7)\nmemory usage: 3.1+ MB\n"
    }
   ],
   "source": [
    "crew.info()"
   ]
  },
  {
   "cell_type": "code",
   "execution_count": 89,
   "metadata": {},
   "outputs": [
    {
     "output_type": "execute_result",
     "data": {
      "text/plain": "dtype('O')"
     },
     "metadata": {},
     "execution_count": 89
    }
   ],
   "source": [
    "crew.id = crew.id.astype(str)\n",
    "crew.id.dtype"
   ]
  },
  {
   "cell_type": "code",
   "execution_count": 90,
   "metadata": {},
   "outputs": [
    {
     "output_type": "execute_result",
     "data": {
      "text/plain": "      id                                               crew  crew_len  \\\n0    862  [{'credit_id': '52fe4284c3a36847f8024f49', 'de...       106   \n1   8844  [{'credit_id': '52fe44bfc3a36847f80a7cd1', 'de...        16   \n2  15602  [{'credit_id': '52fe466a9251416c75077a89', 'de...         4   \n3  31357  [{'credit_id': '52fe44779251416c91011acb', 'de...        10   \n4  11862  [{'credit_id': '52fe44959251416c75039ed7', 'de...         7   \n5    949  [{'credit_id': '52fe4292c3a36847f802916d', 'de...        71   \n\n                                       director director_gender  \\\n0  [John Lasseter, Roman Figun, Desirée Mourad]       [2, 0, 0]   \n1                                [Joe Johnston]             [2]   \n2                               [Howard Deutch]             [2]   \n3                             [Forest Whitaker]             [2]   \n4                               [Charles Shyer]             [2]   \n5  [Michael Mann, Cate Hardman, Michael Waxman]       [2, 1, 0]   \n\n                                            producer  \\\n0  [Bonnie Arnold, Ed Catmull, Ralph Guggenheim, ...   \n1  [Larry J. Franco, Nancy Foy, Scott Kroopf, Ted...   \n2                                                 []   \n3  [Ronald Bass, Ezra Swerdlow, Deborah Schindler...   \n4                                     [Nancy Meyers]   \n5  [Art Linson, Michael Mann, Bonnie Timmermann, ...   \n\n               producer_gender  \\\n0  [1, 0, 2, 2, 0, 0, 0, 1, 0]   \n1           [2, 0, 2, 2, 2, 2]   \n2                           []   \n3              [0, 2, 1, 0, 0]   \n4                          [1]   \n5  [2, 2, 1, 0, 2, 0, 2, 0, 0]   \n\n                                              writer             wirter_gender  \n0  [Joss Whedon, Andrew Stanton, Joel Cohen, Alec...  [2, 2, 2, 0, 2, 2, 0, 2]  \n1  [Jonathan Hensleigh, Chris van Allsburg, Greg ...              [2, 2, 2, 2]  \n2         [Mark Steven Johnson, Mark Steven Johnson]                    [2, 2]  \n3      [Ronald Bass, Terry McMillan, Terry McMillan]                 [0, 0, 0]  \n4                     [Nancy Meyers, Albert Hackett]                    [1, 2]  \n5                                     [Michael Mann]                       [2]  ",
      "text/html": "<div>\n<style scoped>\n    .dataframe tbody tr th:only-of-type {\n        vertical-align: middle;\n    }\n\n    .dataframe tbody tr th {\n        vertical-align: top;\n    }\n\n    .dataframe thead th {\n        text-align: right;\n    }\n</style>\n<table border=\"1\" class=\"dataframe\">\n  <thead>\n    <tr style=\"text-align: right;\">\n      <th></th>\n      <th>id</th>\n      <th>crew</th>\n      <th>crew_len</th>\n      <th>director</th>\n      <th>director_gender</th>\n      <th>producer</th>\n      <th>producer_gender</th>\n      <th>writer</th>\n      <th>wirter_gender</th>\n    </tr>\n  </thead>\n  <tbody>\n    <tr>\n      <td>0</td>\n      <td>862</td>\n      <td>[{'credit_id': '52fe4284c3a36847f8024f49', 'de...</td>\n      <td>106</td>\n      <td>[John Lasseter, Roman Figun, Desirée Mourad]</td>\n      <td>[2, 0, 0]</td>\n      <td>[Bonnie Arnold, Ed Catmull, Ralph Guggenheim, ...</td>\n      <td>[1, 0, 2, 2, 0, 0, 0, 1, 0]</td>\n      <td>[Joss Whedon, Andrew Stanton, Joel Cohen, Alec...</td>\n      <td>[2, 2, 2, 0, 2, 2, 0, 2]</td>\n    </tr>\n    <tr>\n      <td>1</td>\n      <td>8844</td>\n      <td>[{'credit_id': '52fe44bfc3a36847f80a7cd1', 'de...</td>\n      <td>16</td>\n      <td>[Joe Johnston]</td>\n      <td>[2]</td>\n      <td>[Larry J. Franco, Nancy Foy, Scott Kroopf, Ted...</td>\n      <td>[2, 0, 2, 2, 2, 2]</td>\n      <td>[Jonathan Hensleigh, Chris van Allsburg, Greg ...</td>\n      <td>[2, 2, 2, 2]</td>\n    </tr>\n    <tr>\n      <td>2</td>\n      <td>15602</td>\n      <td>[{'credit_id': '52fe466a9251416c75077a89', 'de...</td>\n      <td>4</td>\n      <td>[Howard Deutch]</td>\n      <td>[2]</td>\n      <td>[]</td>\n      <td>[]</td>\n      <td>[Mark Steven Johnson, Mark Steven Johnson]</td>\n      <td>[2, 2]</td>\n    </tr>\n    <tr>\n      <td>3</td>\n      <td>31357</td>\n      <td>[{'credit_id': '52fe44779251416c91011acb', 'de...</td>\n      <td>10</td>\n      <td>[Forest Whitaker]</td>\n      <td>[2]</td>\n      <td>[Ronald Bass, Ezra Swerdlow, Deborah Schindler...</td>\n      <td>[0, 2, 1, 0, 0]</td>\n      <td>[Ronald Bass, Terry McMillan, Terry McMillan]</td>\n      <td>[0, 0, 0]</td>\n    </tr>\n    <tr>\n      <td>4</td>\n      <td>11862</td>\n      <td>[{'credit_id': '52fe44959251416c75039ed7', 'de...</td>\n      <td>7</td>\n      <td>[Charles Shyer]</td>\n      <td>[2]</td>\n      <td>[Nancy Meyers]</td>\n      <td>[1]</td>\n      <td>[Nancy Meyers, Albert Hackett]</td>\n      <td>[1, 2]</td>\n    </tr>\n    <tr>\n      <td>5</td>\n      <td>949</td>\n      <td>[{'credit_id': '52fe4292c3a36847f802916d', 'de...</td>\n      <td>71</td>\n      <td>[Michael Mann, Cate Hardman, Michael Waxman]</td>\n      <td>[2, 1, 0]</td>\n      <td>[Art Linson, Michael Mann, Bonnie Timmermann, ...</td>\n      <td>[2, 2, 1, 0, 2, 0, 2, 0, 0]</td>\n      <td>[Michael Mann]</td>\n      <td>[2]</td>\n    </tr>\n  </tbody>\n</table>\n</div>"
     },
     "metadata": {},
     "execution_count": 90
    }
   ],
   "source": [
    "crew.head(6)"
   ]
  },
  {
   "cell_type": "code",
   "execution_count": 91,
   "metadata": {
    "tags": [
     "outputPrepend",
     "outputPrepend",
     "outputPrepend",
     "outputPrepend",
     "outputPrepend",
     "outputPrepend",
     "outputPrepend",
     "outputPrepend",
     "outputPrepend",
     "outputPrepend",
     "outputPrepend",
     "outputPrepend",
     "outputPrepend",
     "outputPrepend",
     "outputPrepend"
    ]
   },
   "outputs": [
    {
     "output_type": "stream",
     "name": "stdout",
     "text": "Done\n"
    }
   ],
   "source": [
    "movie_id = []\n",
    "directors_name = []\n",
    "directors_gender = []\n",
    "directors = {'movie_id': movie_id, 'name': directors_name, 'gender': directors_gender}\n",
    "for e in range(45476):\n",
    "    for i in crew.iloc[e, 3]:\n",
    "        idm = crew.iloc[e, 0]\n",
    "        movie_id.append(idm)\n",
    "        directors_name.append(i)\n",
    "    for i in crew.iloc[e, 4]:\n",
    "        directors_gender.append(i)\n",
    "directors = pd.DataFrame(directors)\n",
    "print(\"Done\")"
   ]
  },
  {
   "cell_type": "code",
   "execution_count": 92,
   "metadata": {},
   "outputs": [
    {
     "output_type": "execute_result",
     "data": {
      "text/plain": "  movie_id             name  gender\n0      862    John Lasseter       2\n1      862      Roman Figun       0\n2      862   Desirée Mourad       0\n3     8844     Joe Johnston       2\n4    15602    Howard Deutch       2\n5    31357  Forest Whitaker       2",
      "text/html": "<div>\n<style scoped>\n    .dataframe tbody tr th:only-of-type {\n        vertical-align: middle;\n    }\n\n    .dataframe tbody tr th {\n        vertical-align: top;\n    }\n\n    .dataframe thead th {\n        text-align: right;\n    }\n</style>\n<table border=\"1\" class=\"dataframe\">\n  <thead>\n    <tr style=\"text-align: right;\">\n      <th></th>\n      <th>movie_id</th>\n      <th>name</th>\n      <th>gender</th>\n    </tr>\n  </thead>\n  <tbody>\n    <tr>\n      <td>0</td>\n      <td>862</td>\n      <td>John Lasseter</td>\n      <td>2</td>\n    </tr>\n    <tr>\n      <td>1</td>\n      <td>862</td>\n      <td>Roman Figun</td>\n      <td>0</td>\n    </tr>\n    <tr>\n      <td>2</td>\n      <td>862</td>\n      <td>Desirée Mourad</td>\n      <td>0</td>\n    </tr>\n    <tr>\n      <td>3</td>\n      <td>8844</td>\n      <td>Joe Johnston</td>\n      <td>2</td>\n    </tr>\n    <tr>\n      <td>4</td>\n      <td>15602</td>\n      <td>Howard Deutch</td>\n      <td>2</td>\n    </tr>\n    <tr>\n      <td>5</td>\n      <td>31357</td>\n      <td>Forest Whitaker</td>\n      <td>2</td>\n    </tr>\n  </tbody>\n</table>\n</div>"
     },
     "metadata": {},
     "execution_count": 92
    }
   ],
   "source": [
    "directors.head(6)"
   ]
  },
  {
   "cell_type": "code",
   "execution_count": 93,
   "metadata": {},
   "outputs": [
    {
     "output_type": "stream",
     "name": "stdout",
     "text": "Done\n"
    }
   ],
   "source": [
    "movie_id = []\n",
    "producers_name = []\n",
    "producers_gender = []\n",
    "producers = {'movie_id': movie_id, 'name': producers_name, 'gender': producers_gender}\n",
    "for e in range(45476):\n",
    "    for i in crew.iloc[e, 5]:\n",
    "        idm = crew.iloc[e, 0]\n",
    "        movie_id.append(idm)\n",
    "        producers_name.append(i)\n",
    "    for i in crew.iloc[e, 6]:\n",
    "        producers_gender.append(i)\n",
    "producers = pd.DataFrame(producers)\n",
    "print(\"Done\")"
   ]
  },
  {
   "cell_type": "code",
   "execution_count": 94,
   "metadata": {},
   "outputs": [
    {
     "output_type": "execute_result",
     "data": {
      "text/plain": "  movie_id                  name  gender\n0      862         Bonnie Arnold       1\n1      862            Ed Catmull       0\n2      862      Ralph Guggenheim       2\n3      862            Steve Jobs       2\n4      862  Karen Robert Jackson       0\n5      862         Lori Lombardo       0",
      "text/html": "<div>\n<style scoped>\n    .dataframe tbody tr th:only-of-type {\n        vertical-align: middle;\n    }\n\n    .dataframe tbody tr th {\n        vertical-align: top;\n    }\n\n    .dataframe thead th {\n        text-align: right;\n    }\n</style>\n<table border=\"1\" class=\"dataframe\">\n  <thead>\n    <tr style=\"text-align: right;\">\n      <th></th>\n      <th>movie_id</th>\n      <th>name</th>\n      <th>gender</th>\n    </tr>\n  </thead>\n  <tbody>\n    <tr>\n      <td>0</td>\n      <td>862</td>\n      <td>Bonnie Arnold</td>\n      <td>1</td>\n    </tr>\n    <tr>\n      <td>1</td>\n      <td>862</td>\n      <td>Ed Catmull</td>\n      <td>0</td>\n    </tr>\n    <tr>\n      <td>2</td>\n      <td>862</td>\n      <td>Ralph Guggenheim</td>\n      <td>2</td>\n    </tr>\n    <tr>\n      <td>3</td>\n      <td>862</td>\n      <td>Steve Jobs</td>\n      <td>2</td>\n    </tr>\n    <tr>\n      <td>4</td>\n      <td>862</td>\n      <td>Karen Robert Jackson</td>\n      <td>0</td>\n    </tr>\n    <tr>\n      <td>5</td>\n      <td>862</td>\n      <td>Lori Lombardo</td>\n      <td>0</td>\n    </tr>\n  </tbody>\n</table>\n</div>"
     },
     "metadata": {},
     "execution_count": 94
    }
   ],
   "source": [
    "producers.head(6)"
   ]
  },
  {
   "cell_type": "code",
   "execution_count": 95,
   "metadata": {},
   "outputs": [
    {
     "output_type": "stream",
     "name": "stdout",
     "text": "Directors:\n2    28704\n0    26234\n1     3196\nName: gender, dtype: int64\n\nProducers:\n0    47845\n2    34207\n1    12446\nName: gender, dtype: int64\n"
    }
   ],
   "source": [
    "pro_gend_count = producers.gender.value_counts()\n",
    "dir_gend_count = directors.gender.value_counts()\n",
    "print(f'Directors:\\n{dir_gend_count}\\n\\nProducers:\\n{pro_gend_count}')"
   ]
  },
  {
   "cell_type": "markdown",
   "metadata": {},
   "source": [
    "The number of NaN values is much higher than expected. NaN values have been observed in both genders. In order to continue with the clean-up process, the \"name_search\" fucntion is deployed."
   ]
  },
  {
   "cell_type": "code",
   "execution_count": 96,
   "metadata": {},
   "outputs": [
    {
     "output_type": "stream",
     "name": "stdout",
     "text": "Producer's df\nNames in dfnu: 0\nNames not in dfnu: 94498\n\nDirector's df\nNames in dfnu: 0\nNames not in dfnu: 58134\n"
    }
   ],
   "source": [
    "print (\"Producer's df\")\n",
    "name_search(producers)\n",
    "print (\"\\nDirector's df\")\n",
    "name_search(directors)"
   ]
  }
 ],
 "metadata": {
  "language_info": {
   "name": "python",
   "codemirror_mode": {
    "name": "ipython",
    "version": 3
   },
   "version": "3.7.4-final"
  },
  "orig_nbformat": 2,
  "file_extension": ".py",
  "mimetype": "text/x-python",
  "name": "python",
  "npconvert_exporter": "python",
  "pygments_lexer": "ipython3",
  "version": 3,
  "kernelspec": {
   "name": "python3",
   "display_name": "Python 3"
  }
 },
 "nbformat": 4,
 "nbformat_minor": 2
}