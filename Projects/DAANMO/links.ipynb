{
 "cells": [
  {
   "cell_type": "code",
   "execution_count": 1,
   "metadata": {},
   "outputs": [],
   "source": [
    "import pandas as pd\n",
    "import numpy as np"
   ]
  },
  {
   "cell_type": "code",
   "execution_count": 23,
   "metadata": {},
   "outputs": [],
   "source": [
    "def df_save (df):\n",
    "    \"\"\"\n",
    "                        ---What it does---\n",
    "    Saves your df of choice to a .csv file in the same directory of the parent file\n",
    "\n",
    "                        ---What it needs---\n",
    "    * Your input for the name (be careful with adding spaces)\n",
    "    * Your ready-to-save df\n",
    "    \"\"\"\n",
    "    name = input(\"Type the name of your df> \")\n",
    "    name = name + \".csv\"\n",
    "    df.to_csv(name, sep = ',')"
   ]
  },
  {
   "cell_type": "code",
   "execution_count": 24,
   "metadata": {},
   "outputs": [],
   "source": [
    "def null_count (df):\n",
    "    \"\"\"\n",
    "                        ---What it does---\n",
    "    Identifies and counts the number of null values in any given df. Does not return anything.\n",
    "\n",
    "                        ---What it needs---\n",
    "    A DataFrame\n",
    "    \"\"\"\n",
    "    null_in_df = df.isnull().any()\n",
    "    is_null = df.isnull().sum()\n",
    "    print (f'Presence of null in clolumns:\\n{null_in_df}\\n\\nNumber of null in columns:\\n{is_null}')"
   ]
  },
  {
   "cell_type": "code",
   "execution_count": 2,
   "metadata": {},
   "outputs": [
    {
     "output_type": "execute_result",
     "data": {
      "text/plain": "   movieId  imdbId  tmdbId\n0        1  114709   862.0",
      "text/html": "<div>\n<style scoped>\n    .dataframe tbody tr th:only-of-type {\n        vertical-align: middle;\n    }\n\n    .dataframe tbody tr th {\n        vertical-align: top;\n    }\n\n    .dataframe thead th {\n        text-align: right;\n    }\n</style>\n<table border=\"1\" class=\"dataframe\">\n  <thead>\n    <tr style=\"text-align: right;\">\n      <th></th>\n      <th>movieId</th>\n      <th>imdbId</th>\n      <th>tmdbId</th>\n    </tr>\n  </thead>\n  <tbody>\n    <tr>\n      <td>0</td>\n      <td>1</td>\n      <td>114709</td>\n      <td>862.0</td>\n    </tr>\n  </tbody>\n</table>\n</div>"
     },
     "metadata": {},
     "execution_count": 2
    }
   ],
   "source": [
    "df =  pd.read_csv(r'F:\\Programacion\\1.BOOTCAMP\\data\\the-movies-dataset\\links_small.csv')\n",
    "df.head(1)"
   ]
  },
  {
   "cell_type": "code",
   "execution_count": 26,
   "metadata": {},
   "outputs": [
    {
     "output_type": "stream",
     "name": "stdout",
     "text": "<class 'pandas.core.frame.DataFrame'>\nRangeIndex: 9125 entries, 0 to 9124\nData columns (total 3 columns):\nmovieId    9125 non-null int64\nimdbId     9125 non-null int64\ntmdbId     9112 non-null float64\ndtypes: float64(1), int64(2)\nmemory usage: 214.0 KB\n"
    }
   ],
   "source": [
    "df.info()"
   ]
  },
  {
   "cell_type": "code",
   "execution_count": 27,
   "metadata": {},
   "outputs": [
    {
     "output_type": "stream",
     "name": "stdout",
     "text": "Presence of null in clolumns:\nmovieId    False\nimdbId     False\ntmdbId      True\ndtype: bool\n\nNumber of null in columns:\nmovieId     0\nimdbId      0\ntmdbId     13\ndtype: int64\n"
    }
   ],
   "source": [
    "null_count(df)"
   ]
  },
  {
   "cell_type": "code",
   "execution_count": 28,
   "metadata": {},
   "outputs": [],
   "source": [
    "links_small = df"
   ]
  },
  {
   "cell_type": "code",
   "execution_count": 29,
   "metadata": {},
   "outputs": [],
   "source": [
    "links_small = links_small.fillna(0)"
   ]
  },
  {
   "cell_type": "code",
   "execution_count": 30,
   "metadata": {},
   "outputs": [
    {
     "output_type": "stream",
     "name": "stdout",
     "text": "<class 'pandas.core.frame.DataFrame'>\nRangeIndex: 9125 entries, 0 to 9124\nData columns (total 3 columns):\nmovieId    9125 non-null int64\nimdbId     9125 non-null int64\ntmdbId     9125 non-null int32\ndtypes: int32(1), int64(2)\nmemory usage: 178.3 KB\n"
    }
   ],
   "source": [
    "links_small ['tmdbId'] = links_small['tmdbId'].astype(int)\n",
    "links_small.info()"
   ]
  },
  {
   "cell_type": "code",
   "execution_count": 31,
   "metadata": {},
   "outputs": [
    {
     "output_type": "execute_result",
     "data": {
      "text/plain": "         imdbId  tmdbId\nmovieId                \n1        114709     862\n2        113497    8844\n3        113228   15602\n4        114885   31357\n5        113041   11862",
      "text/html": "<div>\n<style scoped>\n    .dataframe tbody tr th:only-of-type {\n        vertical-align: middle;\n    }\n\n    .dataframe tbody tr th {\n        vertical-align: top;\n    }\n\n    .dataframe thead th {\n        text-align: right;\n    }\n</style>\n<table border=\"1\" class=\"dataframe\">\n  <thead>\n    <tr style=\"text-align: right;\">\n      <th></th>\n      <th>imdbId</th>\n      <th>tmdbId</th>\n    </tr>\n    <tr>\n      <th>movieId</th>\n      <th></th>\n      <th></th>\n    </tr>\n  </thead>\n  <tbody>\n    <tr>\n      <td>1</td>\n      <td>114709</td>\n      <td>862</td>\n    </tr>\n    <tr>\n      <td>2</td>\n      <td>113497</td>\n      <td>8844</td>\n    </tr>\n    <tr>\n      <td>3</td>\n      <td>113228</td>\n      <td>15602</td>\n    </tr>\n    <tr>\n      <td>4</td>\n      <td>114885</td>\n      <td>31357</td>\n    </tr>\n    <tr>\n      <td>5</td>\n      <td>113041</td>\n      <td>11862</td>\n    </tr>\n  </tbody>\n</table>\n</div>"
     },
     "metadata": {},
     "execution_count": 31
    }
   ],
   "source": [
    "links_small= links_small.set_index('movieId')\n",
    "links_small.head()"
   ]
  },
  {
   "cell_type": "code",
   "execution_count": 32,
   "metadata": {},
   "outputs": [
    {
     "output_type": "execute_result",
     "data": {
      "text/plain": "True"
     },
     "metadata": {},
     "execution_count": 32
    }
   ],
   "source": [
    "pd.Series(['imdbId', 'tmdbId']).is_unique"
   ]
  },
  {
   "cell_type": "markdown",
   "metadata": {},
   "source": [
    "All values are unique, links_small is ready to serve as nexus between dfs. (15/02/2020)"
   ]
  },
  {
   "cell_type": "code",
   "execution_count": 33,
   "metadata": {},
   "outputs": [
    {
     "output_type": "execute_result",
     "data": {
      "text/plain": "   movieId  imdbId   tmdbId\n0        1  114709    862.0\n1        2  113497   8844.0\n2        3  113228  15602.0\n3        4  114885  31357.0\n4        5  113041  11862.0",
      "text/html": "<div>\n<style scoped>\n    .dataframe tbody tr th:only-of-type {\n        vertical-align: middle;\n    }\n\n    .dataframe tbody tr th {\n        vertical-align: top;\n    }\n\n    .dataframe thead th {\n        text-align: right;\n    }\n</style>\n<table border=\"1\" class=\"dataframe\">\n  <thead>\n    <tr style=\"text-align: right;\">\n      <th></th>\n      <th>movieId</th>\n      <th>imdbId</th>\n      <th>tmdbId</th>\n    </tr>\n  </thead>\n  <tbody>\n    <tr>\n      <td>0</td>\n      <td>1</td>\n      <td>114709</td>\n      <td>862.0</td>\n    </tr>\n    <tr>\n      <td>1</td>\n      <td>2</td>\n      <td>113497</td>\n      <td>8844.0</td>\n    </tr>\n    <tr>\n      <td>2</td>\n      <td>3</td>\n      <td>113228</td>\n      <td>15602.0</td>\n    </tr>\n    <tr>\n      <td>3</td>\n      <td>4</td>\n      <td>114885</td>\n      <td>31357.0</td>\n    </tr>\n    <tr>\n      <td>4</td>\n      <td>5</td>\n      <td>113041</td>\n      <td>11862.0</td>\n    </tr>\n  </tbody>\n</table>\n</div>"
     },
     "metadata": {},
     "execution_count": 33
    }
   ],
   "source": [
    "df2 = pd.read_csv(r'F:\\Programacion\\1.BOOTCAMP\\data\\the-movies-dataset\\links.csv')\n",
    "df2.head()"
   ]
  },
  {
   "cell_type": "code",
   "execution_count": 34,
   "metadata": {},
   "outputs": [
    {
     "output_type": "stream",
     "name": "stdout",
     "text": "<class 'pandas.core.frame.DataFrame'>\nRangeIndex: 45843 entries, 0 to 45842\nData columns (total 3 columns):\nmovieId    45843 non-null int64\nimdbId     45843 non-null int64\ntmdbId     45624 non-null float64\ndtypes: float64(1), int64(2)\nmemory usage: 1.0 MB\n"
    }
   ],
   "source": [
    "df2.info()"
   ]
  },
  {
   "cell_type": "code",
   "execution_count": 35,
   "metadata": {},
   "outputs": [
    {
     "output_type": "stream",
     "name": "stdout",
     "text": "Presence of null in clolumns:\nmovieId    False\nimdbId     False\ntmdbId      True\ndtype: bool\n\nNumber of null in columns:\nmovieId      0\nimdbId       0\ntmdbId     219\ndtype: int64\n"
    }
   ],
   "source": [
    "null_count(df2)"
   ]
  },
  {
   "cell_type": "code",
   "execution_count": 36,
   "metadata": {},
   "outputs": [],
   "source": [
    "links = df2"
   ]
  },
  {
   "cell_type": "code",
   "execution_count": 37,
   "metadata": {},
   "outputs": [
    {
     "output_type": "execute_result",
     "data": {
      "text/plain": "movieId    0\nimdbId     0\ntmdbId     0\ndtype: int64"
     },
     "metadata": {},
     "execution_count": 37
    }
   ],
   "source": [
    "links = links.fillna(0)\n",
    "links.isnull().sum()"
   ]
  },
  {
   "cell_type": "code",
   "execution_count": 38,
   "metadata": {},
   "outputs": [
    {
     "output_type": "stream",
     "name": "stdout",
     "text": "<class 'pandas.core.frame.DataFrame'>\nRangeIndex: 45843 entries, 0 to 45842\nData columns (total 3 columns):\nmovieId    45843 non-null int64\nimdbId     45843 non-null int64\ntmdbId     45843 non-null int32\ndtypes: int32(1), int64(2)\nmemory usage: 895.5 KB\n"
    }
   ],
   "source": [
    "links['tmdbId'] = links['tmdbId'].astype(int)\n",
    "links.info()"
   ]
  },
  {
   "cell_type": "code",
   "execution_count": 39,
   "metadata": {},
   "outputs": [
    {
     "output_type": "execute_result",
     "data": {
      "text/plain": "         imdbId  tmdbId\nmovieId                \n1        114709     862\n2        113497    8844\n3        113228   15602\n4        114885   31357\n5        113041   11862",
      "text/html": "<div>\n<style scoped>\n    .dataframe tbody tr th:only-of-type {\n        vertical-align: middle;\n    }\n\n    .dataframe tbody tr th {\n        vertical-align: top;\n    }\n\n    .dataframe thead th {\n        text-align: right;\n    }\n</style>\n<table border=\"1\" class=\"dataframe\">\n  <thead>\n    <tr style=\"text-align: right;\">\n      <th></th>\n      <th>imdbId</th>\n      <th>tmdbId</th>\n    </tr>\n    <tr>\n      <th>movieId</th>\n      <th></th>\n      <th></th>\n    </tr>\n  </thead>\n  <tbody>\n    <tr>\n      <td>1</td>\n      <td>114709</td>\n      <td>862</td>\n    </tr>\n    <tr>\n      <td>2</td>\n      <td>113497</td>\n      <td>8844</td>\n    </tr>\n    <tr>\n      <td>3</td>\n      <td>113228</td>\n      <td>15602</td>\n    </tr>\n    <tr>\n      <td>4</td>\n      <td>114885</td>\n      <td>31357</td>\n    </tr>\n    <tr>\n      <td>5</td>\n      <td>113041</td>\n      <td>11862</td>\n    </tr>\n  </tbody>\n</table>\n</div>"
     },
     "metadata": {},
     "execution_count": 39
    }
   ],
   "source": [
    "links= links.set_index('movieId')\n",
    "links.head()"
   ]
  },
  {
   "cell_type": "code",
   "execution_count": 40,
   "metadata": {},
   "outputs": [
    {
     "output_type": "execute_result",
     "data": {
      "text/plain": "True"
     },
     "metadata": {},
     "execution_count": 40
    }
   ],
   "source": [
    "pd.Series(['imdbId', 'tmdbId']).is_unique"
   ]
  },
  {
   "cell_type": "markdown",
   "metadata": {},
   "source": [
    "Links is ready to act as nexus between dfs."
   ]
  },
  {
   "cell_type": "code",
   "execution_count": 41,
   "metadata": {},
   "outputs": [],
   "source": [
    "df_save(links)\n",
    "df_save(links_small)"
   ]
  }
 ],
 "metadata": {
  "language_info": {
   "name": "python",
   "codemirror_mode": {
    "name": "ipython",
    "version": 3
   },
   "version": "3.7.4-final"
  },
  "orig_nbformat": 2,
  "file_extension": ".py",
  "mimetype": "text/x-python",
  "name": "python",
  "npconvert_exporter": "python",
  "pygments_lexer": "ipython3",
  "version": 3,
  "kernelspec": {
   "name": "python3",
   "display_name": "Python 3"
  }
 },
 "nbformat": 4,
 "nbformat_minor": 2
}