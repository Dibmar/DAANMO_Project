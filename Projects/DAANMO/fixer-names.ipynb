{
 "cells": [
  {
   "cell_type": "code",
   "execution_count": 6,
   "metadata": {},
   "outputs": [],
   "source": [
    "import pandas as pd"
   ]
  },
  {
   "cell_type": "code",
   "execution_count": 12,
   "metadata": {},
   "outputs": [],
   "source": [
    "def df_save (df):\n",
    "    \"\"\"\n",
    "                        ---What it does---\n",
    "    Saves your df of choice to a .csv file in the same directory of the parent file\n",
    "\n",
    "                        ---What it needs---\n",
    "    * Your input for the name (be careful with adding spaces)\n",
    "    * Your ready-to-save df\n",
    "    \"\"\"\n",
    "    name = input(\"Type the name of your df> \")\n",
    "    name = name + \".csv\"\n",
    "    df.to_csv(name, sep = ',')"
   ]
  },
  {
   "cell_type": "code",
   "execution_count": 8,
   "metadata": {},
   "outputs": [
    {
     "output_type": "stream",
     "name": "stdout",
     "text": "<class 'pandas.core.frame.DataFrame'>\nRangeIndex: 240698 entries, 0 to 240697\nData columns (total 6 columns):\nyr               240698 non-null int64\nsex              240698 non-null object\nFirstForename    240698 non-null object\nnumber           240698 non-null int64\nrank             240698 non-null int64\nposition         240698 non-null object\ndtypes: int64(3), object(3)\nmemory usage: 11.0+ MB\n"
    }
   ],
   "source": [
    "df = pd.read_csv(r'F:\\Programacion\\1.BOOTCAMP\\data\\the-movies-dataset\\names_df\\scots_names.csv')\n",
    "df.info()"
   ]
  },
  {
   "cell_type": "code",
   "execution_count": 9,
   "metadata": {},
   "outputs": [],
   "source": [
    "# operations with df\n",
    "df.columns = ['year', 'gender', 'name', 'number', 'rank', 'position']\n",
    "\n",
    "# df/gender/operations-with\n",
    "gender = lambda x: \"Female\" if x == 'G' else (\"Male\" if x == 'B' else x)\n",
    "df['gender'] = df['gender'].apply(gender)\n",
    "\n",
    "# dfnu\n",
    "dfnu = pd.DataFrame(df[['name', 'gender']])\n",
    "dfnu['name'] = dfnu['name'].drop_duplicates(keep = 'first')\n"
   ]
  },
  {
   "cell_type": "code",
   "execution_count": 10,
   "metadata": {},
   "outputs": [],
   "source": [
    "df_save(dfnu)"
   ]
  },
  {
   "cell_type": "code",
   "execution_count": 11,
   "metadata": {},
   "outputs": [
    {
     "output_type": "execute_result",
     "data": {
      "text/plain": "Sarthak     1\nAretousa    1\nZozan       1\nNassar      1\nShonya      1\n           ..\nTawhid      1\nSherow      1\nKanwulia    1\nShantana    1\nRoonie      1\nName: name, Length: 64848, dtype: int64"
     },
     "metadata": {},
     "execution_count": 11
    }
   ],
   "source": [
    "dfnu['name'].value_counts()"
   ]
  }
 ],
 "metadata": {
  "language_info": {
   "name": "python",
   "codemirror_mode": {
    "name": "ipython",
    "version": 3
   },
   "version": "3.7.4-final"
  },
  "orig_nbformat": 2,
  "file_extension": ".py",
  "mimetype": "text/x-python",
  "name": "python",
  "npconvert_exporter": "python",
  "pygments_lexer": "ipython3",
  "version": 3,
  "kernelspec": {
   "name": "python3",
   "display_name": "Python 3"
  }
 },
 "nbformat": 4,
 "nbformat_minor": 2
}