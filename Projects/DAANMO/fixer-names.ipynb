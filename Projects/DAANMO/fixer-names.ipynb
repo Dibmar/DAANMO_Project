{
 "nbformat": 4,
 "nbformat_minor": 2,
 "metadata": {
  "language_info": {
   "name": "python",
   "codemirror_mode": {
    "name": "ipython",
    "version": 3
   },
   "version": "3.7.4-final"
  },
  "orig_nbformat": 2,
  "file_extension": ".py",
  "mimetype": "text/x-python",
  "name": "python",
  "npconvert_exporter": "python",
  "pygments_lexer": "ipython3",
  "version": 3,
  "kernelspec": {
   "name": "python3",
   "display_name": "Python 3"
  }
 },
 "cells": [
  {
   "cell_type": "code",
   "execution_count": 16,
   "metadata": {},
   "outputs": [],
   "source": [
    "import pandas as pd"
   ]
  },
  {
   "cell_type": "code",
   "execution_count": 17,
   "metadata": {},
   "outputs": [
    {
     "output_type": "stream",
     "name": "stdout",
     "text": "<class 'pandas.core.frame.DataFrame'>\nRangeIndex: 240698 entries, 0 to 240697\nData columns (total 6 columns):\nyr               240698 non-null int64\nsex              240698 non-null object\nFirstForename    240698 non-null object\nnumber           240698 non-null int64\nrank             240698 non-null int64\nposition         240698 non-null object\ndtypes: int64(3), object(3)\nmemory usage: 11.0+ MB\n"
    }
   ],
   "source": [
    "df = pd.read_csv(r'F:\\Programacion\\1.BOOTCAMP\\data\\the-movies-dataset\\babies-first-names-all-names-all-years.csv')\n",
    "df.info()"
   ]
  },
  {
   "cell_type": "code",
   "execution_count": 18,
   "metadata": {},
   "outputs": [],
   "source": [
    "# operations with df\n",
    "df.columns = ['year', 'gender', 'name', 'number', 'rank', 'position']\n",
    "\n",
    "# df/gender/operations-with\n",
    "gender = lambda x: \"Female\" if x == 'G' else (\"Male\" if x == 'B' else x)\n",
    "df['gender'] = df['gender'].apply(gender)\n",
    "\n",
    "# dfnu\n",
    "dfnu = pd.DataFrame(df[['name', 'gender']])\n",
    "dfnu['name'] = dfnu['name'].drop_duplicates(keep = 'first')\n",
    "\n",
    "dfnu.to_csv('dfnu', sep=',')\n",
    ""
   ]
  },
  {
   "cell_type": "code",
   "execution_count": 19,
   "metadata": {},
   "outputs": [
    {
     "output_type": "execute_result",
     "data": {
      "text/plain": "Yoyo               1\nChing-Wuli         1\nJiberrl            1\nTalha              1\nTaha               1\n                  ..\nRielly             1\nHallia             1\nShohreh            1\nDhanvanth          1\nMaria-Francesca    1\nName: name, Length: 64848, dtype: int64"
     },
     "metadata": {},
     "execution_count": 19
    }
   ],
   "source": [
    "dfnu['name'].value_counts()"
   ]
  }
 ]
}