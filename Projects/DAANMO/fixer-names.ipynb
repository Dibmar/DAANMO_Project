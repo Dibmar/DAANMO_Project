{
 "cells": [
  {
   "cell_type": "code",
   "execution_count": 1,
   "metadata": {},
   "outputs": [],
   "source": [
    "import pandas as pd"
   ]
  },
  {
   "cell_type": "code",
   "execution_count": 2,
   "metadata": {},
   "outputs": [],
   "source": [
    "def name_cleaner (df):\n",
    "    \"\"\"\n",
    "                        ---What it does---\n",
    "    Takes the 'name' column and the 'gender' column of your df and applies the gender and capper lambdas. This will return you a capitalized column of strings (name) and a Female/Male column.\n",
    "                        ---What it needs---\n",
    "    A df with at leas two columns that MUST be named 'name' and 'gender'\n",
    "    \"\"\"\n",
    "    gender = lambda x: \"Female\" if x == 'G' or x == 2 else (\"Male\" if x == 'B' or x == 1 else x)\n",
    "    capper = lambda e: e.capitalize()\n",
    "    df['gender'] = df['gender'].apply(gender)\n",
    "    df['name'] = df['name'].astype(str)\n",
    "    df['name'] = df['name'].apply(capper)\n",
    "    df['name'] = df['name'].drop_duplicates(keep = 'first')\n",
    "    "
   ]
  },
  {
   "cell_type": "code",
   "execution_count": 30,
   "metadata": {},
   "outputs": [],
   "source": [
    "def df_save (df):\n",
    "    \"\"\"\n",
    "                        ---What it does---\n",
    "    Saves your df of choice to a .csv file in the same directory of the parent file\n",
    "\n",
    "                        ---What it needs---\n",
    "    * Your input for the name (be careful with adding spaces)\n",
    "    * Your ready-to-save df\n",
    "    \"\"\"\n",
    "    name = input(\"Type the name of your df> \")\n",
    "    name = name + \"_ready.csv\"\n",
    "    df.to_csv(name, sep = ',')"
   ]
  },
  {
   "cell_type": "markdown",
   "metadata": {},
   "source": [
    "# English names\n",
    "\n",
    "Given the predominance of the english speaking film industry production, this df will be used as a the definitive template. The other df will be merged with it."
   ]
  },
  {
   "cell_type": "code",
   "execution_count": 4,
   "metadata": {},
   "outputs": [
    {
     "output_type": "stream",
     "name": "stdout",
     "text": "<class 'pandas.core.frame.DataFrame'>\nRangeIndex: 240698 entries, 0 to 240697\nData columns (total 6 columns):\nyr               240698 non-null int64\nsex              240698 non-null object\nFirstForename    240698 non-null object\nnumber           240698 non-null int64\nrank             240698 non-null int64\nposition         240698 non-null object\ndtypes: int64(3), object(3)\nmemory usage: 11.0+ MB\n"
    }
   ],
   "source": [
    "df = pd.read_csv(r'F:\\Programacion\\1.BOOTCAMP\\data\\the-movies-dataset\\names_df\\scots_names.csv')\n",
    "df.info()"
   ]
  },
  {
   "cell_type": "code",
   "execution_count": 16,
   "metadata": {},
   "outputs": [],
   "source": [
    "# operations with df\n",
    "df.columns = ['year', 'gender', 'name', 'number', 'rank', 'position']\n",
    "\n",
    "# dfnu\n",
    "dfnu = pd.DataFrame(df[['name', 'gender']])\n",
    "name_cleaner(dfnu)\n",
    "dfnu['name'] = dfnu['name'].drop_duplicates(keep = 'first')\n",
    "dfnu = dfnu.dropna()"
   ]
  },
  {
   "cell_type": "code",
   "execution_count": 17,
   "metadata": {},
   "outputs": [
    {
     "output_type": "execute_result",
     "data": {
      "text/plain": "(64848, 2)"
     },
     "metadata": {},
     "execution_count": 17
    }
   ],
   "source": [
    "dfnu.shape"
   ]
  },
  {
   "cell_type": "markdown",
   "metadata": {},
   "source": [
    "# Spanish names"
   ]
  },
  {
   "cell_type": "code",
   "execution_count": 18,
   "metadata": {},
   "outputs": [
    {
     "output_type": "execute_result",
     "data": {
      "text/plain": "    name  gender\n0  MARIA  Female",
      "text/html": "<div>\n<style scoped>\n    .dataframe tbody tr th:only-of-type {\n        vertical-align: middle;\n    }\n\n    .dataframe tbody tr th {\n        vertical-align: top;\n    }\n\n    .dataframe thead th {\n        text-align: right;\n    }\n</style>\n<table border=\"1\" class=\"dataframe\">\n  <thead>\n    <tr style=\"text-align: right;\">\n      <th></th>\n      <th>name</th>\n      <th>gender</th>\n    </tr>\n  </thead>\n  <tbody>\n    <tr>\n      <td>0</td>\n      <td>MARIA</td>\n      <td>Female</td>\n    </tr>\n  </tbody>\n</table>\n</div>"
     },
     "metadata": {},
     "execution_count": 18
    }
   ],
   "source": [
    "spanish = pd.read_csv(r'F:\\Programacion\\1.BOOTCAMP\\data\\the-movies-dataset\\names_df\\spanish_female.csv', encoding= 'latin1',sep=\";\")\n",
    "spanish.head(1)"
   ]
  },
  {
   "cell_type": "code",
   "execution_count": 19,
   "metadata": {},
   "outputs": [
    {
     "output_type": "execute_result",
     "data": {
      "text/plain": "(247, 2)"
     },
     "metadata": {},
     "execution_count": 19
    }
   ],
   "source": [
    "name_cleaner(spanish)\n",
    "spanish = spanish.dropna()\n",
    "spanish.shape"
   ]
  },
  {
   "cell_type": "code",
   "execution_count": 20,
   "metadata": {},
   "outputs": [
    {
     "output_type": "execute_result",
     "data": {
      "text/plain": "    name  gender\n0  Maria  Female",
      "text/html": "<div>\n<style scoped>\n    .dataframe tbody tr th:only-of-type {\n        vertical-align: middle;\n    }\n\n    .dataframe tbody tr th {\n        vertical-align: top;\n    }\n\n    .dataframe thead th {\n        text-align: right;\n    }\n</style>\n<table border=\"1\" class=\"dataframe\">\n  <thead>\n    <tr style=\"text-align: right;\">\n      <th></th>\n      <th>name</th>\n      <th>gender</th>\n    </tr>\n  </thead>\n  <tbody>\n    <tr>\n      <td>0</td>\n      <td>Maria</td>\n      <td>Female</td>\n    </tr>\n  </tbody>\n</table>\n</div>"
     },
     "metadata": {},
     "execution_count": 20
    }
   ],
   "source": [
    "spanish.head(1)"
   ]
  },
  {
   "cell_type": "markdown",
   "metadata": {},
   "source": [
    "# French names"
   ]
  },
  {
   "cell_type": "code",
   "execution_count": 21,
   "metadata": {},
   "outputs": [
    {
     "output_type": "execute_result",
     "data": {
      "text/plain": "  name  gender\n0    A       1",
      "text/html": "<div>\n<style scoped>\n    .dataframe tbody tr th:only-of-type {\n        vertical-align: middle;\n    }\n\n    .dataframe tbody tr th {\n        vertical-align: top;\n    }\n\n    .dataframe thead th {\n        text-align: right;\n    }\n</style>\n<table border=\"1\" class=\"dataframe\">\n  <thead>\n    <tr style=\"text-align: right;\">\n      <th></th>\n      <th>name</th>\n      <th>gender</th>\n    </tr>\n  </thead>\n  <tbody>\n    <tr>\n      <td>0</td>\n      <td>A</td>\n      <td>1</td>\n    </tr>\n  </tbody>\n</table>\n</div>"
     },
     "metadata": {},
     "execution_count": 21
    }
   ],
   "source": [
    "french = pd.read_csv(r'F:\\Programacion\\1.BOOTCAMP\\data\\the-movies-dataset\\names_df\\french_names.csv', encoding= 'latin1',sep=\";\")\n",
    "french.head(1)"
   ]
  },
  {
   "cell_type": "code",
   "execution_count": 22,
   "metadata": {},
   "outputs": [
    {
     "output_type": "stream",
     "name": "stdout",
     "text": "<class 'pandas.core.frame.DataFrame'>\nRangeIndex: 636474 entries, 0 to 636473\nData columns (total 2 columns):\nname      636471 non-null object\ngender    636474 non-null int64\ndtypes: int64(1), object(1)\nmemory usage: 9.7+ MB\n"
    }
   ],
   "source": [
    "french.info()"
   ]
  },
  {
   "cell_type": "code",
   "execution_count": 23,
   "metadata": {},
   "outputs": [
    {
     "output_type": "execute_result",
     "data": {
      "text/plain": "(33484, 2)"
     },
     "metadata": {},
     "execution_count": 23
    }
   ],
   "source": [
    "name_cleaner(french)\n",
    "french = french.dropna()\n",
    "french.shape"
   ]
  },
  {
   "cell_type": "code",
   "execution_count": 24,
   "metadata": {},
   "outputs": [
    {
     "output_type": "execute_result",
     "data": {
      "text/plain": "     name gender\n0       A   Male\n3   Aadam   Male\n9   Aadel   Male\n17  Aadil   Male\n43  Aahil   Male",
      "text/html": "<div>\n<style scoped>\n    .dataframe tbody tr th:only-of-type {\n        vertical-align: middle;\n    }\n\n    .dataframe tbody tr th {\n        vertical-align: top;\n    }\n\n    .dataframe thead th {\n        text-align: right;\n    }\n</style>\n<table border=\"1\" class=\"dataframe\">\n  <thead>\n    <tr style=\"text-align: right;\">\n      <th></th>\n      <th>name</th>\n      <th>gender</th>\n    </tr>\n  </thead>\n  <tbody>\n    <tr>\n      <td>0</td>\n      <td>A</td>\n      <td>Male</td>\n    </tr>\n    <tr>\n      <td>3</td>\n      <td>Aadam</td>\n      <td>Male</td>\n    </tr>\n    <tr>\n      <td>9</td>\n      <td>Aadel</td>\n      <td>Male</td>\n    </tr>\n    <tr>\n      <td>17</td>\n      <td>Aadil</td>\n      <td>Male</td>\n    </tr>\n    <tr>\n      <td>43</td>\n      <td>Aahil</td>\n      <td>Male</td>\n    </tr>\n  </tbody>\n</table>\n</div>"
     },
     "metadata": {},
     "execution_count": 24
    }
   ],
   "source": [
    "french.head(5)"
   ]
  },
  {
   "cell_type": "markdown",
   "metadata": {},
   "source": [
    "# Final assembly sequence"
   ]
  },
  {
   "cell_type": "code",
   "execution_count": 25,
   "metadata": {},
   "outputs": [
    {
     "output_type": "execute_result",
     "data": {
      "text/plain": "Ivara           1\nLe-ann          1\nMohsena         1\nJulia-rose      1\nSamiera         1\n               ..\nJelizaveta      1\nLaylah-marie    1\nLaicee          1\nCaitlyne        1\nManjira         1\nName: name, Length: 64848, dtype: int64"
     },
     "metadata": {},
     "execution_count": 25
    }
   ],
   "source": [
    "dfnu['name'].value_counts()"
   ]
  },
  {
   "cell_type": "code",
   "execution_count": 29,
   "metadata": {},
   "outputs": [],
   "source": [
    "df_save(dfnu)"
   ]
  }
 ],
 "metadata": {
  "language_info": {
   "name": "python",
   "codemirror_mode": {
    "name": "ipython",
    "version": 3
   },
   "version": "3.7.4-final"
  },
  "orig_nbformat": 2,
  "file_extension": ".py",
  "mimetype": "text/x-python",
  "name": "python",
  "npconvert_exporter": "python",
  "pygments_lexer": "ipython3",
  "version": 3,
  "kernelspec": {
   "name": "python3",
   "display_name": "Python 3"
  }
 },
 "nbformat": 4,
 "nbformat_minor": 2
}