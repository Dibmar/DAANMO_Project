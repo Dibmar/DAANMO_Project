{
 "nbformat": 4,
 "nbformat_minor": 2,
 "metadata": {
  "language_info": {
   "name": "python",
   "codemirror_mode": {
    "name": "ipython",
    "version": 3
   },
   "version": "3.7.4-final"
  },
  "orig_nbformat": 2,
  "file_extension": ".py",
  "mimetype": "text/x-python",
  "name": "python",
  "npconvert_exporter": "python",
  "pygments_lexer": "ipython3",
  "version": 3,
  "kernelspec": {
   "name": "python3",
   "display_name": "Python 3"
  }
 },
 "cells": [
  {
   "cell_type": "code",
   "execution_count": 20,
   "metadata": {},
   "outputs": [],
   "source": [
    "import pandas as pd\n",
    "import numpy as np\n",
    "import json\n",
    "import ast\n",
    "\n",
    "\n",
    "import seaborn as sns\n",
    "import matplotlib.pyplot as plt\n",
    "%matplotlib inline"
   ]
  },
  {
   "cell_type": "code",
   "execution_count": 21,
   "metadata": {},
   "outputs": [
    {
     "output_type": "execute_result",
     "data": {
      "text/plain": "    id                                           keywords\n0  862  [{'id': 931, 'name': 'jealousy'}, {'id': 4290,...",
      "text/html": "<div>\n<style scoped>\n    .dataframe tbody tr th:only-of-type {\n        vertical-align: middle;\n    }\n\n    .dataframe tbody tr th {\n        vertical-align: top;\n    }\n\n    .dataframe thead th {\n        text-align: right;\n    }\n</style>\n<table border=\"1\" class=\"dataframe\">\n  <thead>\n    <tr style=\"text-align: right;\">\n      <th></th>\n      <th>id</th>\n      <th>keywords</th>\n    </tr>\n  </thead>\n  <tbody>\n    <tr>\n      <td>0</td>\n      <td>862</td>\n      <td>[{'id': 931, 'name': 'jealousy'}, {'id': 4290,...</td>\n    </tr>\n  </tbody>\n</table>\n</div>"
     },
     "metadata": {},
     "execution_count": 21
    }
   ],
   "source": [
    "df = pd.read_csv(r'F:\\Programacion\\1.BOOTCAMP\\data\\the-movies-dataset\\keywords.csv')\n",
    "df.head(1)"
   ]
  },
  {
   "cell_type": "code",
   "execution_count": 22,
   "metadata": {},
   "outputs": [
    {
     "output_type": "stream",
     "name": "stdout",
     "text": "<class 'pandas.core.frame.DataFrame'>\nRangeIndex: 46419 entries, 0 to 46418\nData columns (total 2 columns):\nid          46419 non-null int64\nkeywords    46419 non-null object\ndtypes: int64(1), object(1)\nmemory usage: 725.4+ KB\n"
    }
   ],
   "source": [
    "df.info()"
   ]
  },
  {
   "cell_type": "code",
   "execution_count": 23,
   "metadata": {},
   "outputs": [
    {
     "output_type": "execute_result",
     "data": {
      "text/plain": "0        [{'id': 931, 'name': 'jealousy'}, {'id': 4290,...\n1        [{'id': 10090, 'name': 'board game'}, {'id': 1...\n2        [{'id': 1495, 'name': 'fishing'}, {'id': 12392...\n3        [{'id': 818, 'name': 'based on novel'}, {'id':...\n4        [{'id': 1009, 'name': 'baby'}, {'id': 1599, 'n...\n                               ...                        \n46414               [{'id': 10703, 'name': 'tragic love'}]\n46415    [{'id': 2679, 'name': 'artist'}, {'id': 14531,...\n46416                                                   []\n46417                                                   []\n46418                                                   []\nName: keywords, Length: 46419, dtype: object"
     },
     "metadata": {},
     "execution_count": 23
    }
   ],
   "source": [
    "df.keywords"
   ]
  },
  {
   "cell_type": "code",
   "execution_count": 24,
   "metadata": {},
   "outputs": [],
   "source": [
    "keywords = pd.DataFrame(df.keywords)"
   ]
  },
  {
   "cell_type": "code",
   "execution_count": 25,
   "metadata": {},
   "outputs": [
    {
     "output_type": "execute_result",
     "data": {
      "text/plain": "\"{'id': 931, 'name': 'jealousy'}, {'id': 4290, 'name': 'toy'}, {'id': 5202, 'name': 'boy'}, {'id': 6054, 'name': 'friendship'}, {'id': 9713, 'name': 'friends'}, {'id': 9823, 'name': 'rivalry'}, {'id': 165503, 'name': 'boy next door'}, {'id': 170722, 'name': 'new toy'}, {'id': 187065, 'name': 'toy comes to life'}\""
     },
     "metadata": {},
     "execution_count": 25
    }
   ],
   "source": [
    "data = keywords.iloc[0,0]\n",
    "real_json_str = str(data)[1:-1]\n",
    "real_json_str"
   ]
  },
  {
   "cell_type": "code",
   "execution_count": 26,
   "metadata": {},
   "outputs": [],
   "source": [
    "keywords['keywords'] = keywords['keywords'].apply(ast.literal_eval)\n",
    "keywords['id'] = keywords['keywords'].apply(lambda x: [i['id'] for i in x] if isinstance(x, list) else [])\n",
    "keywords['keywords'] = keywords['keywords'].apply(lambda x: [i['name'] for i in x] if isinstance(x, list) else [])"
   ]
  },
  {
   "cell_type": "code",
   "execution_count": 29,
   "metadata": {},
   "outputs": [
    {
     "output_type": "execute_result",
     "data": {
      "text/plain": "                                            keywords  \\\n0  [jealousy, toy, boy, friendship, friends, riva...   \n1  [board game, disappearance, based on children'...   \n\n                                                  id  \n0  [931, 4290, 5202, 6054, 9713, 9823, 165503, 17...  \n1       [10090, 10941, 15101, 33467, 158086, 158091]  ",
      "text/html": "<div>\n<style scoped>\n    .dataframe tbody tr th:only-of-type {\n        vertical-align: middle;\n    }\n\n    .dataframe tbody tr th {\n        vertical-align: top;\n    }\n\n    .dataframe thead th {\n        text-align: right;\n    }\n</style>\n<table border=\"1\" class=\"dataframe\">\n  <thead>\n    <tr style=\"text-align: right;\">\n      <th></th>\n      <th>keywords</th>\n      <th>id</th>\n    </tr>\n  </thead>\n  <tbody>\n    <tr>\n      <td>0</td>\n      <td>[jealousy, toy, boy, friendship, friends, riva...</td>\n      <td>[931, 4290, 5202, 6054, 9713, 9823, 165503, 17...</td>\n    </tr>\n    <tr>\n      <td>1</td>\n      <td>[board game, disappearance, based on children'...</td>\n      <td>[10090, 10941, 15101, 33467, 158086, 158091]</td>\n    </tr>\n  </tbody>\n</table>\n</div>"
     },
     "metadata": {},
     "execution_count": 29
    }
   ],
   "source": [
    "keywords.head(2)"
   ]
  },
  {
   "cell_type": "code",
   "execution_count": 28,
   "metadata": {},
   "outputs": [
    {
     "output_type": "execute_result",
     "data": {
      "text/plain": "                                                keywords  \\\n0      [jealousy, toy, boy, friendship, friends, riva...   \n1      [board game, disappearance, based on children'...   \n2      [fishing, best friend, duringcreditsstinger, o...   \n3      [based on novel, interracial relationship, sin...   \n4      [baby, midlife crisis, confidence, aging, daug...   \n...                                                  ...   \n46409  [revenge, murder, serial killer, new york city...   \n46410                                      [blair witch]   \n46411  [witch, mythology, legend, serial killer, mock...   \n46414                                      [tragic love]   \n46415                              [artist, play, pinoy]   \n\n                                                      id  \n0      [931, 4290, 5202, 6054, 9713, 9823, 165503, 17...  \n1           [10090, 10941, 15101, 33467, 158086, 158091]  \n2                          [1495, 12392, 179431, 208510]  \n3                      [818, 10131, 14768, 15160, 33455]  \n4      [1009, 1599, 2246, 4995, 5600, 10707, 13149, 3...  \n...                                                  ...  \n46409  [9748, 9826, 10714, 14512, 173245, 179083, 189...  \n46410                                           [224180]  \n46411                    [616, 2035, 3754, 10714, 11800]  \n46414                                            [10703]  \n46415                              [2679, 14531, 215397]  \n\n[31624 rows x 2 columns]",
      "text/html": "<div>\n<style scoped>\n    .dataframe tbody tr th:only-of-type {\n        vertical-align: middle;\n    }\n\n    .dataframe tbody tr th {\n        vertical-align: top;\n    }\n\n    .dataframe thead th {\n        text-align: right;\n    }\n</style>\n<table border=\"1\" class=\"dataframe\">\n  <thead>\n    <tr style=\"text-align: right;\">\n      <th></th>\n      <th>keywords</th>\n      <th>id</th>\n    </tr>\n  </thead>\n  <tbody>\n    <tr>\n      <td>0</td>\n      <td>[jealousy, toy, boy, friendship, friends, riva...</td>\n      <td>[931, 4290, 5202, 6054, 9713, 9823, 165503, 17...</td>\n    </tr>\n    <tr>\n      <td>1</td>\n      <td>[board game, disappearance, based on children'...</td>\n      <td>[10090, 10941, 15101, 33467, 158086, 158091]</td>\n    </tr>\n    <tr>\n      <td>2</td>\n      <td>[fishing, best friend, duringcreditsstinger, o...</td>\n      <td>[1495, 12392, 179431, 208510]</td>\n    </tr>\n    <tr>\n      <td>3</td>\n      <td>[based on novel, interracial relationship, sin...</td>\n      <td>[818, 10131, 14768, 15160, 33455]</td>\n    </tr>\n    <tr>\n      <td>4</td>\n      <td>[baby, midlife crisis, confidence, aging, daug...</td>\n      <td>[1009, 1599, 2246, 4995, 5600, 10707, 13149, 3...</td>\n    </tr>\n    <tr>\n      <td>...</td>\n      <td>...</td>\n      <td>...</td>\n    </tr>\n    <tr>\n      <td>46409</td>\n      <td>[revenge, murder, serial killer, new york city...</td>\n      <td>[9748, 9826, 10714, 14512, 173245, 179083, 189...</td>\n    </tr>\n    <tr>\n      <td>46410</td>\n      <td>[blair witch]</td>\n      <td>[224180]</td>\n    </tr>\n    <tr>\n      <td>46411</td>\n      <td>[witch, mythology, legend, serial killer, mock...</td>\n      <td>[616, 2035, 3754, 10714, 11800]</td>\n    </tr>\n    <tr>\n      <td>46414</td>\n      <td>[tragic love]</td>\n      <td>[10703]</td>\n    </tr>\n    <tr>\n      <td>46415</td>\n      <td>[artist, play, pinoy]</td>\n      <td>[2679, 14531, 215397]</td>\n    </tr>\n  </tbody>\n</table>\n<p>31624 rows × 2 columns</p>\n</div>"
     },
     "metadata": {},
     "execution_count": 28
    }
   ],
   "source": [
    "keywords[keywords.astype(str)['keywords'] != '[]']"
   ]
  }
 ]
}