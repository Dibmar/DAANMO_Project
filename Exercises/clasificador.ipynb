{
 "cells": [
  {
   "cell_type": "code",
   "execution_count": 4,
   "metadata": {},
   "outputs": [],
   "source": [
    "import pandas as pd\n",
    "import numpy as np"
   ]
  },
  {
   "cell_type": "code",
   "execution_count": 6,
   "metadata": {},
   "outputs": [],
   "source": [
    "heights = [170, 210, 165, 155, 180, 175]\n",
    "weights = [60, 80, 60, 55, 75, 72]\n",
    "foot_size = [43, 58, 36, 34, 44, 44]\n",
    "gender = ['female', 'male', 'female', 'female', 'male', 'male']\n",
    "df = {'heights': heights, 'weights': weights, 'foot_size': foot_size, 'gender': gender}\n",
    "\n",
    "df = pd.DataFrame(df)"
   ]
  },
  {
   "cell_type": "code",
   "execution_count": 7,
   "metadata": {},
   "outputs": [
    {
     "output_type": "execute_result",
     "data": {
      "text/plain": "   heights  weights  foot_size  gender\n0      170       60         43  female\n1      210       80         58    male\n2      165       60         36  female\n3      155       55         34  female\n4      180       75         44    male\n5      175       72         44    male",
      "text/html": "<div>\n<style scoped>\n    .dataframe tbody tr th:only-of-type {\n        vertical-align: middle;\n    }\n\n    .dataframe tbody tr th {\n        vertical-align: top;\n    }\n\n    .dataframe thead th {\n        text-align: right;\n    }\n</style>\n<table border=\"1\" class=\"dataframe\">\n  <thead>\n    <tr style=\"text-align: right;\">\n      <th></th>\n      <th>heights</th>\n      <th>weights</th>\n      <th>foot_size</th>\n      <th>gender</th>\n    </tr>\n  </thead>\n  <tbody>\n    <tr>\n      <td>0</td>\n      <td>170</td>\n      <td>60</td>\n      <td>43</td>\n      <td>female</td>\n    </tr>\n    <tr>\n      <td>1</td>\n      <td>210</td>\n      <td>80</td>\n      <td>58</td>\n      <td>male</td>\n    </tr>\n    <tr>\n      <td>2</td>\n      <td>165</td>\n      <td>60</td>\n      <td>36</td>\n      <td>female</td>\n    </tr>\n    <tr>\n      <td>3</td>\n      <td>155</td>\n      <td>55</td>\n      <td>34</td>\n      <td>female</td>\n    </tr>\n    <tr>\n      <td>4</td>\n      <td>180</td>\n      <td>75</td>\n      <td>44</td>\n      <td>male</td>\n    </tr>\n    <tr>\n      <td>5</td>\n      <td>175</td>\n      <td>72</td>\n      <td>44</td>\n      <td>male</td>\n    </tr>\n  </tbody>\n</table>\n</div>"
     },
     "metadata": {},
     "execution_count": 7
    }
   ],
   "source": [
    "df"
   ]
  },
  {
   "cell_type": "code",
   "execution_count": 33,
   "metadata": {},
   "outputs": [
    {
     "output_type": "stream",
     "name": "stdout",
     "text": "Population:\nTotal: 6\nMales: 3\tFemale: 3\n\nProbabily of:\nMale: 0.5\tFemale: 0.5\n\nData means:\n           heights    weights  foot_size\ngender                                  \nfemale  163.333333  58.333333  37.666667\nmale    188.333333  75.666667  48.666667\n\nData variance:\n           heights    weights  foot_size\ngender                                  \nfemale   58.333333   8.333333  22.333333\nmale    358.333333  16.333333  65.333333\n"
    }
   ],
   "source": [
    "# population count\n",
    "male = df['gender'].loc[df['gender'] == 'male'].count()\n",
    "female = df['gender'].loc[df['gender'] == 'female'].count()\n",
    "gender_total = df['gender'].count()\n",
    "\n",
    "print (f\"Population:\\nTotal: {gender_total}\\nMales: {male}\\tFemale: {female}\")\n",
    "\n",
    "# probability of\n",
    "p_male = male / gender_total\n",
    "p_female = female / gender_total\n",
    "\n",
    "print (f\"\\nProbabily of:\\nMale: {p_male}\\tFemale: {p_female}\")\n",
    "\n",
    "# likelihoods\n",
    "means = df.groupby('gender').mean()\n",
    "variance = df.groupby('gender').var()\n",
    "\n",
    "print(f\"\\nData means:\\n{means}\")\n",
    "print(f\"\\nData variance:\\n{variance}\")"
   ]
  },
  {
   "cell_type": "code",
   "execution_count": 42,
   "metadata": {},
   "outputs": [
    {
     "output_type": "stream",
     "name": "stdout",
     "text": "Done\n"
    }
   ],
   "source": [
    "# means\n",
    "male_mean_height = means['heights']['male']\n",
    "male_mean_weight = means['weights']['male']\n",
    "male_mean_foot_s = means['foot_size']['male']\n",
    "\n",
    "female_mean_height = means['heights']['female']\n",
    "female_mean_weight = means['weights']['female']\n",
    "female_mean_foot_s = means['foot_size']['female']\n",
    "\n",
    "# variance\n",
    "male_variance_heihgt = variance['heights']['male']\n",
    "male_variance_weihgt = variance['weights']['male']\n",
    "male_variance_foot_s = variance['foot_size']['male']\n",
    "\n",
    "female_variance_heihgt = variance['heights']['female']\n",
    "female_variance_weihgt = variance['weights']['female']\n",
    "female_variance_foot_s = variance['foot_size']['female']\n",
    "\n",
    "print (\"Done\")"
   ]
  },
  {
   "cell_type": "code",
   "execution_count": 59,
   "metadata": {},
   "outputs": [],
   "source": [
    "def probabilty_density (x, mean_y, var_y):\n",
    "    \"\"\"What it does\n",
    "    Calculates the probability desity of the likelyhood elements\"\"\"\n",
    "    prob = 1/(np.sqrt(2 * np.pi * var_y)) * np.exp((-(x - mean_y) ** 2) / (2 * var_y))\n",
    "    # print (f\"prob = {prob}\")\n",
    "    return prob"
   ]
  },
  {
   "cell_type": "code",
   "execution_count": 80,
   "metadata": {},
   "outputs": [
    {
     "output_type": "execute_result",
     "data": {
      "text/plain": "   gender  height_density  weight_density  foot_size_density\n0  female        0.035687        0.116982           0.044655\n1    male        0.010947        0.055556           0.025340\n2  female        0.051005        0.116982           0.079328\n3  female        0.028803        0.070953           0.062476\n4    male        0.019129        0.097379           0.041779\n5    male        0.016445        0.065408           0.041779",
      "text/html": "<div>\n<style scoped>\n    .dataframe tbody tr th:only-of-type {\n        vertical-align: middle;\n    }\n\n    .dataframe tbody tr th {\n        vertical-align: top;\n    }\n\n    .dataframe thead th {\n        text-align: right;\n    }\n</style>\n<table border=\"1\" class=\"dataframe\">\n  <thead>\n    <tr style=\"text-align: right;\">\n      <th></th>\n      <th>gender</th>\n      <th>height_density</th>\n      <th>weight_density</th>\n      <th>foot_size_density</th>\n    </tr>\n  </thead>\n  <tbody>\n    <tr>\n      <td>0</td>\n      <td>female</td>\n      <td>0.035687</td>\n      <td>0.116982</td>\n      <td>0.044655</td>\n    </tr>\n    <tr>\n      <td>1</td>\n      <td>male</td>\n      <td>0.010947</td>\n      <td>0.055556</td>\n      <td>0.025340</td>\n    </tr>\n    <tr>\n      <td>2</td>\n      <td>female</td>\n      <td>0.051005</td>\n      <td>0.116982</td>\n      <td>0.079328</td>\n    </tr>\n    <tr>\n      <td>3</td>\n      <td>female</td>\n      <td>0.028803</td>\n      <td>0.070953</td>\n      <td>0.062476</td>\n    </tr>\n    <tr>\n      <td>4</td>\n      <td>male</td>\n      <td>0.019129</td>\n      <td>0.097379</td>\n      <td>0.041779</td>\n    </tr>\n    <tr>\n      <td>5</td>\n      <td>male</td>\n      <td>0.016445</td>\n      <td>0.065408</td>\n      <td>0.041779</td>\n    </tr>\n  </tbody>\n</table>\n</div>"
     },
     "metadata": {},
     "execution_count": 80
    }
   ],
   "source": [
    "heigh_den = []\n",
    "weight_den = []\n",
    "foot_s_den = []\n",
    "gender_den = []\n",
    "\n",
    "for e in range(len(df)):\n",
    "    if df['gender'].iloc[e] == \"male\":\n",
    "        height_den_m = probabilty_density(df['heights'].iloc[e], mean_y= male_mean_height, var_y= male_variance_heihgt)\n",
    "        weight_den_m = probabilty_density(df['weights'].iloc[e], mean_y= male_mean_weight, var_y= male_variance_weihgt)\n",
    "        foot_s_den_m = probabilty_density(df['foot_size'].iloc[e], mean_y= male_mean_foot_s, var_y= male_variance_foot_s)\n",
    "\n",
    "        heigh_den.append(height_den_m)\n",
    "        weight_den.append(weight_den_m)\n",
    "        foot_s_den.append(foot_s_den_m)\n",
    "        gender_den.append('Male')\n",
    "\n",
    "    elif df['gender'].iloc[e] == \"female\":\n",
    "        \n",
    "        height_den_f =  probabilty_density(df['heights'].iloc[e], mean_y= female_mean_height, var_y= female_variance_heihgt)\n",
    "        weight_den_f = probabilty_density(df['weights'].iloc[e], mean_y= female_mean_weight, var_y= female_variance_weihgt)\n",
    "        foot_s_den_f = probabilty_density(df['foot_size'].iloc[e], mean_y= female_mean_foot_s, var_y= female_variance_foot_s)\n",
    "\n",
    "        heigh_den.append(height_den_f)\n",
    "        weight_den.append(weight_den_f)\n",
    "        foot_s_den.append(foot_s_den_f)\n",
    "        gender_den.append('Female')\n",
    "\n",
    "density_df = pd.DataFrame({'gender': gender, 'height_density': heigh_den, 'weight_density': weight_den, 'foot_size_density': foot_s_den})\n",
    "density_df"
   ]
  },
  {
   "cell_type": "code",
   "execution_count": 86,
   "metadata": {},
   "outputs": [
    {
     "output_type": "stream",
     "name": "stdout",
     "text": "1.3706498333190285e-08 9.320990880440705e-05\nMore likely to be female\n7.705430989221876e-06 1.3319030827385583e-28\nMore likely to be male\n3.838299844399342e-09 0.000236659821213416\nMore likely to be female\n4.403921031137261e-12 6.3840591274722e-05\nMore likely to be female\n3.891148410219297e-05 6.63100021487716e-13\nMore likely to be male\n2.246969368257448e-05 5.250304579666252e-10\nMore likely to be male\n"
    }
   ],
   "source": [
    "for e in range(len(df)):\n",
    "        dens_male = p_male * \\\n",
    "        probabilty_density(df['heights'].iloc[e], mean_y= male_mean_height, var_y= male_variance_heihgt) * \\\n",
    "        probabilty_density(df['weights'].iloc[e], mean_y= male_mean_weight, var_y= male_variance_weihgt) * \\\n",
    "        probabilty_density(df['foot_size'].iloc[e], mean_y= male_mean_foot_s, var_y= male_variance_foot_s)\n",
    "\n",
    "        dens_female = p_female * \\\n",
    "        probabilty_density(df['heights'].iloc[e], mean_y= female_mean_height, var_y= female_variance_heihgt) * \\\n",
    "        probabilty_density(df['weights'].iloc[e], mean_y= female_mean_weight, var_y= female_variance_weihgt) * \\\n",
    "        probabilty_density(df['foot_size'].iloc[e], mean_y= female_mean_foot_s, var_y= female_variance_foot_s)\n",
    "\n",
    "        print (dens_male, dens_female)\n",
    "        if dens_male > dens_female:\n",
    "            print ('More likely to be male')\n",
    "        elif dens_male < dens_female:\n",
    "            print ('More likely to be female')\n",
    "        else:\n",
    "            print ('Unable to tell')"
   ]
  }
 ],
 "metadata": {
  "language_info": {
   "codemirror_mode": {
    "name": "ipython",
    "version": 3
   },
   "file_extension": ".py",
   "mimetype": "text/x-python",
   "name": "python",
   "nbconvert_exporter": "python",
   "pygments_lexer": "ipython3",
   "version": "3.7.4-final"
  },
  "orig_nbformat": 2,
  "kernelspec": {
   "name": "python3",
   "display_name": "Python 3"
  }
 },
 "nbformat": 4,
 "nbformat_minor": 2
}