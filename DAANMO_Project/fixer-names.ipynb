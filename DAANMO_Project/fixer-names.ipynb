{
 "cells": [
  {
   "cell_type": "markdown",
   "metadata": {},
   "source": [
    "# Fixer names\n",
    "Homebrewed database created to fix the gender-missing values on credits notebook."
   ]
  },
  {
   "cell_type": "code",
   "execution_count": 1,
   "metadata": {},
   "outputs": [],
   "source": [
    "import pandas as pd"
   ]
  },
  {
   "cell_type": "code",
   "execution_count": 2,
   "metadata": {
    "tags": []
   },
   "outputs": [
    {
     "output_type": "stream",
     "name": "stdout",
     "text": "EDA lib ready\n"
    }
   ],
   "source": [
    "import EDA"
   ]
  },
  {
   "cell_type": "markdown",
   "metadata": {},
   "source": [
    "## English names\n",
    "\n",
    "Given the predominance of the english speaking film industry production, this df will be used as a the definitive template. The other df will be merged with it."
   ]
  },
  {
   "cell_type": "code",
   "execution_count": 10,
   "metadata": {
    "tags": []
   },
   "outputs": [
    {
     "output_type": "stream",
     "name": "stdout",
     "text": "-dtype, length and name of columns-\n<class 'pandas.core.frame.DataFrame'>\nRangeIndex: 240698 entries, 0 to 240697\nData columns (total 6 columns):\nyr               240698 non-null int64\nsex              240698 non-null object\nFirstForename    240698 non-null object\nnumber           240698 non-null int64\nrank             240698 non-null int64\nposition         240698 non-null object\ndtypes: int64(3), object(3)\nmemory usage: 11.0+ MB\nNone\n\nIndex(['yr', 'sex', 'FirstForename', 'number', 'rank', 'position'], dtype='object')\n\n(240698, 6)\n\n-Presence of NaNs in df-\nyr               False\nsex              False\nFirstForename    False\nnumber           False\nrank             False\nposition         False\ndtype: bool\n"
    }
   ],
   "source": [
    "english = pd.read_csv(r'F:\\Programacion\\1.BOOTCAMP\\data\\the-movies-dataset\\names_df\\scots_names.csv')\n",
    "EDA.general_info(english)"
   ]
  },
  {
   "cell_type": "code",
   "execution_count": 11,
   "metadata": {},
   "outputs": [
    {
     "output_type": "execute_result",
     "data": {
      "text/plain": "(64848, 2)"
     },
     "metadata": {},
     "execution_count": 11
    }
   ],
   "source": [
    "# operations with df\n",
    "english.columns = ['year', 'gender', 'name', 'number', 'rank', 'position']\n",
    "\n",
    "# dfnu\n",
    "dfnu = pd.DataFrame(english[['name', 'gender']])\n",
    "EDA.gender_for_name(dfnu)\n",
    "dfnu['name'] = dfnu['name'].drop_duplicates(keep = 'first')\n",
    "\n",
    "dfnu = dfnu.dropna()\n",
    "dfnu.shape"
   ]
  },
  {
   "cell_type": "markdown",
   "metadata": {},
   "source": [
    "## Spanish names"
   ]
  },
  {
   "cell_type": "code",
   "execution_count": 12,
   "metadata": {
    "tags": []
   },
   "outputs": [
    {
     "output_type": "stream",
     "name": "stdout",
     "text": "-dtype, length and name of columns-\n<class 'pandas.core.frame.DataFrame'>\nRangeIndex: 1000 entries, 0 to 999\nData columns (total 2 columns):\nname      1000 non-null object\ngender    1000 non-null object\ndtypes: object(2)\nmemory usage: 15.8+ KB\nNone\n\nIndex(['name', 'gender'], dtype='object')\n\n(1000, 2)\n\n-Presence of NaNs in df-\nname      False\ngender    False\ndtype: bool\n"
    }
   ],
   "source": [
    "spanish = pd.read_csv(r'F:\\Programacion\\1.BOOTCAMP\\data\\the-movies-dataset\\names_df\\spanish_female.csv', encoding= 'latin1',sep=\";\")\n",
    "EDA.general_info(spanish)"
   ]
  },
  {
   "cell_type": "code",
   "execution_count": 13,
   "metadata": {
    "tags": []
   },
   "outputs": [
    {
     "output_type": "stream",
     "name": "stdout",
     "text": "Spanish df shape(247, 2)\n\n    name  gender\n0  Maria  Female\n"
    }
   ],
   "source": [
    "EDA.gender_for_name(spanish)\n",
    "spanish = spanish.dropna()\n",
    "print (f'Spanish df shape{spanish.shape}\\n\\n{spanish.head(1)}')"
   ]
  },
  {
   "cell_type": "markdown",
   "metadata": {},
   "source": [
    "## French names"
   ]
  },
  {
   "cell_type": "code",
   "execution_count": 14,
   "metadata": {
    "tags": []
   },
   "outputs": [
    {
     "output_type": "stream",
     "name": "stdout",
     "text": "-dtype, length and name of columns-\n<class 'pandas.core.frame.DataFrame'>\nRangeIndex: 636474 entries, 0 to 636473\nData columns (total 2 columns):\nname      636471 non-null object\ngender    636474 non-null int64\ndtypes: int64(1), object(1)\nmemory usage: 9.7+ MB\nNone\n\nIndex(['name', 'gender'], dtype='object')\n\n(636474, 2)\n\n-Presence of NaNs in df-\nname       True\ngender    False\ndtype: bool\n\n-Number of NaNs in df-\nname      3\ngender    0\ndtype: int64\n"
    }
   ],
   "source": [
    "french = pd.read_csv(r'F:\\Programacion\\1.BOOTCAMP\\data\\the-movies-dataset\\names_df\\french_names.csv', encoding= 'latin1',sep=\";\")\n",
    "EDA.general_info(french)"
   ]
  },
  {
   "cell_type": "code",
   "execution_count": 16,
   "metadata": {
    "tags": []
   },
   "outputs": [
    {
     "output_type": "stream",
     "name": "stdout",
     "text": "French df shape(33484, 2)\n\n  name gender\n0    A   Male\n"
    }
   ],
   "source": [
    "EDA.gender_for_name(french)\n",
    "french = french.dropna()\n",
    "print (f'French df shape{french.shape}\\n\\n{french.head(1)}')"
   ]
  },
  {
   "cell_type": "markdown",
   "metadata": {},
   "source": [
    "## Final assembly sequence"
   ]
  },
  {
   "cell_type": "code",
   "execution_count": 17,
   "metadata": {},
   "outputs": [
    {
     "output_type": "execute_result",
     "data": {
      "text/plain": "Logun          1\nKathrize       1\nSukhpreet      1\nChrysoula      1\nCeiren         1\n              ..\nElyssa-anne    1\nChelsie        1\nBrittaney      1\nSahej          1\nBlen           1\nName: name, Length: 64848, dtype: int64"
     },
     "metadata": {},
     "execution_count": 17
    }
   ],
   "source": [
    "dfnu['name'].value_counts()"
   ]
  },
  {
   "cell_type": "code",
   "execution_count": 29,
   "metadata": {},
   "outputs": [],
   "source": [
    "df_save(dfnu)"
   ]
  }
 ],
 "metadata": {
  "language_info": {
   "name": "python",
   "codemirror_mode": {
    "name": "ipython",
    "version": 3
   },
   "version": "3.7.4-final"
  },
  "orig_nbformat": 2,
  "file_extension": ".py",
  "mimetype": "text/x-python",
  "name": "python",
  "npconvert_exporter": "python",
  "pygments_lexer": "ipython3",
  "version": 3,
  "kernelspec": {
   "name": "python3",
   "display_name": "Python 3"
  }
 },
 "nbformat": 4,
 "nbformat_minor": 2
}