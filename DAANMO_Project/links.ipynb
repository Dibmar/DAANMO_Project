{
 "cells": [
  {
   "cell_type": "markdown",
   "metadata": {},
   "source": [
    "# Links notebook\n",
    "The links notebook contains the id identifiers for the movies. Usefull in a \"id missing\" situation."
   ]
  },
  {
   "cell_type": "code",
   "execution_count": 1,
   "metadata": {},
   "outputs": [],
   "source": [
    "import pandas as pd\n",
    "import numpy as np"
   ]
  },
  {
   "cell_type": "code",
   "execution_count": 4,
   "metadata": {
    "tags": []
   },
   "outputs": [
    {
     "output_type": "stream",
     "name": "stdout",
     "text": "EDA lib ready\n"
    }
   ],
   "source": [
    "import EDA"
   ]
  },
  {
   "cell_type": "code",
   "execution_count": 2,
   "metadata": {},
   "outputs": [
    {
     "output_type": "execute_result",
     "data": {
      "text/plain": "   movieId  imdbId  tmdbId\n0        1  114709   862.0",
      "text/html": "<div>\n<style scoped>\n    .dataframe tbody tr th:only-of-type {\n        vertical-align: middle;\n    }\n\n    .dataframe tbody tr th {\n        vertical-align: top;\n    }\n\n    .dataframe thead th {\n        text-align: right;\n    }\n</style>\n<table border=\"1\" class=\"dataframe\">\n  <thead>\n    <tr style=\"text-align: right;\">\n      <th></th>\n      <th>movieId</th>\n      <th>imdbId</th>\n      <th>tmdbId</th>\n    </tr>\n  </thead>\n  <tbody>\n    <tr>\n      <td>0</td>\n      <td>1</td>\n      <td>114709</td>\n      <td>862.0</td>\n    </tr>\n  </tbody>\n</table>\n</div>"
     },
     "metadata": {},
     "execution_count": 2
    }
   ],
   "source": [
    "df =  pd.read_csv(r'F:\\Programacion\\1.BOOTCAMP\\data\\the-movies-dataset\\links_small.csv')\n",
    "df.head(1)"
   ]
  },
  {
   "cell_type": "code",
   "execution_count": 5,
   "metadata": {
    "tags": []
   },
   "outputs": [
    {
     "output_type": "stream",
     "name": "stdout",
     "text": "-dtype, length and name of columns-\n<class 'pandas.core.frame.DataFrame'>\nRangeIndex: 9125 entries, 0 to 9124\nData columns (total 3 columns):\nmovieId    9125 non-null int64\nimdbId     9125 non-null int64\ntmdbId     9112 non-null float64\ndtypes: float64(1), int64(2)\nmemory usage: 214.0 KB\nNone\n\nIndex(['movieId', 'imdbId', 'tmdbId'], dtype='object')\n\n(9125, 3)\n\n-Presence of NaNs in df-\nmovieId    False\nimdbId     False\ntmdbId      True\ndtype: bool\n\n-Number of NaNs in df-\nmovieId     0\nimdbId      0\ntmdbId     13\ndtype: int64\n"
    }
   ],
   "source": [
    "EDA.general_info(df)"
   ]
  },
  {
   "cell_type": "code",
   "execution_count": 6,
   "metadata": {},
   "outputs": [],
   "source": [
    "links_small = df.copy()"
   ]
  },
  {
   "cell_type": "code",
   "execution_count": 7,
   "metadata": {},
   "outputs": [],
   "source": [
    "links_small = links_small.fillna(0)"
   ]
  },
  {
   "cell_type": "code",
   "execution_count": 12,
   "metadata": {},
   "outputs": [
    {
     "output_type": "execute_result",
     "data": {
      "text/plain": "      movieId   imdbId  tmdbId\n607       720   118114     0.0\n608       721   114103     0.0\n640       769   116992     0.0\n910      1133   111357     0.0\n2282     2851    81454     0.0\n3246     4051    56600     0.0\n5826    26587    92337     0.0\n7408    72781  1104746     0.0\n7438    73759   495212     0.0\n7588    79299   874957     0.0\n8045    94466  2085059     0.0\n8505   108548   898266     0.0\n8507   108583    72500     0.0",
      "text/html": "<div>\n<style scoped>\n    .dataframe tbody tr th:only-of-type {\n        vertical-align: middle;\n    }\n\n    .dataframe tbody tr th {\n        vertical-align: top;\n    }\n\n    .dataframe thead th {\n        text-align: right;\n    }\n</style>\n<table border=\"1\" class=\"dataframe\">\n  <thead>\n    <tr style=\"text-align: right;\">\n      <th></th>\n      <th>movieId</th>\n      <th>imdbId</th>\n      <th>tmdbId</th>\n    </tr>\n  </thead>\n  <tbody>\n    <tr>\n      <td>607</td>\n      <td>720</td>\n      <td>118114</td>\n      <td>0.0</td>\n    </tr>\n    <tr>\n      <td>608</td>\n      <td>721</td>\n      <td>114103</td>\n      <td>0.0</td>\n    </tr>\n    <tr>\n      <td>640</td>\n      <td>769</td>\n      <td>116992</td>\n      <td>0.0</td>\n    </tr>\n    <tr>\n      <td>910</td>\n      <td>1133</td>\n      <td>111357</td>\n      <td>0.0</td>\n    </tr>\n    <tr>\n      <td>2282</td>\n      <td>2851</td>\n      <td>81454</td>\n      <td>0.0</td>\n    </tr>\n    <tr>\n      <td>3246</td>\n      <td>4051</td>\n      <td>56600</td>\n      <td>0.0</td>\n    </tr>\n    <tr>\n      <td>5826</td>\n      <td>26587</td>\n      <td>92337</td>\n      <td>0.0</td>\n    </tr>\n    <tr>\n      <td>7408</td>\n      <td>72781</td>\n      <td>1104746</td>\n      <td>0.0</td>\n    </tr>\n    <tr>\n      <td>7438</td>\n      <td>73759</td>\n      <td>495212</td>\n      <td>0.0</td>\n    </tr>\n    <tr>\n      <td>7588</td>\n      <td>79299</td>\n      <td>874957</td>\n      <td>0.0</td>\n    </tr>\n    <tr>\n      <td>8045</td>\n      <td>94466</td>\n      <td>2085059</td>\n      <td>0.0</td>\n    </tr>\n    <tr>\n      <td>8505</td>\n      <td>108548</td>\n      <td>898266</td>\n      <td>0.0</td>\n    </tr>\n    <tr>\n      <td>8507</td>\n      <td>108583</td>\n      <td>72500</td>\n      <td>0.0</td>\n    </tr>\n  </tbody>\n</table>\n</div>"
     },
     "metadata": {},
     "execution_count": 12
    }
   ],
   "source": [
    "links_small.loc[links_small['tmdbId'] == 0]"
   ]
  },
  {
   "cell_type": "code",
   "execution_count": 13,
   "metadata": {
    "tags": []
   },
   "outputs": [
    {
     "output_type": "stream",
     "name": "stdout",
     "text": "Before: float64\nAfter: int32\n"
    }
   ],
   "source": [
    "before = links_small ['tmdbId'].dtype\n",
    "links_small ['tmdbId'] = links_small['tmdbId'].astype(int)\n",
    "after = links_small ['tmdbId'].dtype\n",
    "\n",
    "print(f'Before: {before}\\nAfter: {after}')"
   ]
  },
  {
   "cell_type": "code",
   "execution_count": 14,
   "metadata": {},
   "outputs": [
    {
     "output_type": "execute_result",
     "data": {
      "text/plain": "         imdbId  tmdbId\nmovieId                \n1        114709     862\n2        113497    8844\n3        113228   15602\n4        114885   31357\n5        113041   11862",
      "text/html": "<div>\n<style scoped>\n    .dataframe tbody tr th:only-of-type {\n        vertical-align: middle;\n    }\n\n    .dataframe tbody tr th {\n        vertical-align: top;\n    }\n\n    .dataframe thead th {\n        text-align: right;\n    }\n</style>\n<table border=\"1\" class=\"dataframe\">\n  <thead>\n    <tr style=\"text-align: right;\">\n      <th></th>\n      <th>imdbId</th>\n      <th>tmdbId</th>\n    </tr>\n    <tr>\n      <th>movieId</th>\n      <th></th>\n      <th></th>\n    </tr>\n  </thead>\n  <tbody>\n    <tr>\n      <td>1</td>\n      <td>114709</td>\n      <td>862</td>\n    </tr>\n    <tr>\n      <td>2</td>\n      <td>113497</td>\n      <td>8844</td>\n    </tr>\n    <tr>\n      <td>3</td>\n      <td>113228</td>\n      <td>15602</td>\n    </tr>\n    <tr>\n      <td>4</td>\n      <td>114885</td>\n      <td>31357</td>\n    </tr>\n    <tr>\n      <td>5</td>\n      <td>113041</td>\n      <td>11862</td>\n    </tr>\n  </tbody>\n</table>\n</div>"
     },
     "metadata": {},
     "execution_count": 14
    }
   ],
   "source": [
    "links_small= links_small.set_index('movieId')\n",
    "links_small.head()"
   ]
  },
  {
   "cell_type": "markdown",
   "metadata": {},
   "source": [
    "Links_small is cleaned and ready for action."
   ]
  },
  {
   "cell_type": "code",
   "execution_count": 16,
   "metadata": {},
   "outputs": [
    {
     "output_type": "execute_result",
     "data": {
      "text/plain": "   movieId  imdbId   tmdbId\n0        1  114709    862.0\n1        2  113497   8844.0\n2        3  113228  15602.0\n3        4  114885  31357.0\n4        5  113041  11862.0",
      "text/html": "<div>\n<style scoped>\n    .dataframe tbody tr th:only-of-type {\n        vertical-align: middle;\n    }\n\n    .dataframe tbody tr th {\n        vertical-align: top;\n    }\n\n    .dataframe thead th {\n        text-align: right;\n    }\n</style>\n<table border=\"1\" class=\"dataframe\">\n  <thead>\n    <tr style=\"text-align: right;\">\n      <th></th>\n      <th>movieId</th>\n      <th>imdbId</th>\n      <th>tmdbId</th>\n    </tr>\n  </thead>\n  <tbody>\n    <tr>\n      <td>0</td>\n      <td>1</td>\n      <td>114709</td>\n      <td>862.0</td>\n    </tr>\n    <tr>\n      <td>1</td>\n      <td>2</td>\n      <td>113497</td>\n      <td>8844.0</td>\n    </tr>\n    <tr>\n      <td>2</td>\n      <td>3</td>\n      <td>113228</td>\n      <td>15602.0</td>\n    </tr>\n    <tr>\n      <td>3</td>\n      <td>4</td>\n      <td>114885</td>\n      <td>31357.0</td>\n    </tr>\n    <tr>\n      <td>4</td>\n      <td>5</td>\n      <td>113041</td>\n      <td>11862.0</td>\n    </tr>\n  </tbody>\n</table>\n</div>"
     },
     "metadata": {},
     "execution_count": 16
    }
   ],
   "source": [
    "df2 = pd.read_csv(r'F:\\Programacion\\1.BOOTCAMP\\data\\the-movies-dataset\\links.csv')\n",
    "df2.head()"
   ]
  },
  {
   "cell_type": "code",
   "execution_count": 17,
   "metadata": {
    "tags": []
   },
   "outputs": [
    {
     "output_type": "stream",
     "name": "stdout",
     "text": "-dtype, length and name of columns-\n<class 'pandas.core.frame.DataFrame'>\nRangeIndex: 45843 entries, 0 to 45842\nData columns (total 3 columns):\nmovieId    45843 non-null int64\nimdbId     45843 non-null int64\ntmdbId     45624 non-null float64\ndtypes: float64(1), int64(2)\nmemory usage: 1.0 MB\nNone\n\nIndex(['movieId', 'imdbId', 'tmdbId'], dtype='object')\n\n(45843, 3)\n\n-Presence of NaNs in df-\nmovieId    False\nimdbId     False\ntmdbId      True\ndtype: bool\n\n-Number of NaNs in df-\nmovieId      0\nimdbId       0\ntmdbId     219\ndtype: int64\n"
    }
   ],
   "source": [
    "EDA.general_info(df2)"
   ]
  },
  {
   "cell_type": "code",
   "execution_count": 18,
   "metadata": {},
   "outputs": [],
   "source": [
    "links = df2.copy()"
   ]
  },
  {
   "cell_type": "code",
   "execution_count": 19,
   "metadata": {},
   "outputs": [],
   "source": [
    "links = links.fillna(0)"
   ]
  },
  {
   "cell_type": "code",
   "execution_count": 20,
   "metadata": {},
   "outputs": [
    {
     "output_type": "execute_result",
     "data": {
      "text/plain": "     movieId  imdbId  tmdbId\n140      142   94878     0.0\n598      604  115978     0.0\n708      720  118114     0.0\n709      721  114103     0.0\n718      730  125877     0.0",
      "text/html": "<div>\n<style scoped>\n    .dataframe tbody tr th:only-of-type {\n        vertical-align: middle;\n    }\n\n    .dataframe tbody tr th {\n        vertical-align: top;\n    }\n\n    .dataframe thead th {\n        text-align: right;\n    }\n</style>\n<table border=\"1\" class=\"dataframe\">\n  <thead>\n    <tr style=\"text-align: right;\">\n      <th></th>\n      <th>movieId</th>\n      <th>imdbId</th>\n      <th>tmdbId</th>\n    </tr>\n  </thead>\n  <tbody>\n    <tr>\n      <td>140</td>\n      <td>142</td>\n      <td>94878</td>\n      <td>0.0</td>\n    </tr>\n    <tr>\n      <td>598</td>\n      <td>604</td>\n      <td>115978</td>\n      <td>0.0</td>\n    </tr>\n    <tr>\n      <td>708</td>\n      <td>720</td>\n      <td>118114</td>\n      <td>0.0</td>\n    </tr>\n    <tr>\n      <td>709</td>\n      <td>721</td>\n      <td>114103</td>\n      <td>0.0</td>\n    </tr>\n    <tr>\n      <td>718</td>\n      <td>730</td>\n      <td>125877</td>\n      <td>0.0</td>\n    </tr>\n  </tbody>\n</table>\n</div>"
     },
     "metadata": {},
     "execution_count": 20
    }
   ],
   "source": [
    "links.loc[links['tmdbId'] == 0].head()"
   ]
  },
  {
   "cell_type": "code",
   "execution_count": 21,
   "metadata": {
    "tags": []
   },
   "outputs": [
    {
     "output_type": "stream",
     "name": "stdout",
     "text": "Before: float64\nAfter: int32\n"
    }
   ],
   "source": [
    "before = links ['tmdbId'].dtype\n",
    "links ['tmdbId'] = links['tmdbId'].astype(int)\n",
    "after = links ['tmdbId'].dtype\n",
    "\n",
    "print(f'Before: {before}\\nAfter: {after}')"
   ]
  },
  {
   "cell_type": "code",
   "execution_count": 22,
   "metadata": {},
   "outputs": [
    {
     "output_type": "execute_result",
     "data": {
      "text/plain": "         imdbId  tmdbId\nmovieId                \n1        114709     862\n2        113497    8844\n3        113228   15602\n4        114885   31357\n5        113041   11862",
      "text/html": "<div>\n<style scoped>\n    .dataframe tbody tr th:only-of-type {\n        vertical-align: middle;\n    }\n\n    .dataframe tbody tr th {\n        vertical-align: top;\n    }\n\n    .dataframe thead th {\n        text-align: right;\n    }\n</style>\n<table border=\"1\" class=\"dataframe\">\n  <thead>\n    <tr style=\"text-align: right;\">\n      <th></th>\n      <th>imdbId</th>\n      <th>tmdbId</th>\n    </tr>\n    <tr>\n      <th>movieId</th>\n      <th></th>\n      <th></th>\n    </tr>\n  </thead>\n  <tbody>\n    <tr>\n      <td>1</td>\n      <td>114709</td>\n      <td>862</td>\n    </tr>\n    <tr>\n      <td>2</td>\n      <td>113497</td>\n      <td>8844</td>\n    </tr>\n    <tr>\n      <td>3</td>\n      <td>113228</td>\n      <td>15602</td>\n    </tr>\n    <tr>\n      <td>4</td>\n      <td>114885</td>\n      <td>31357</td>\n    </tr>\n    <tr>\n      <td>5</td>\n      <td>113041</td>\n      <td>11862</td>\n    </tr>\n  </tbody>\n</table>\n</div>"
     },
     "metadata": {},
     "execution_count": 22
    }
   ],
   "source": [
    "links= links.set_index('movieId')\n",
    "links.head()"
   ]
  },
  {
   "cell_type": "code",
   "execution_count": 40,
   "metadata": {},
   "outputs": [
    {
     "output_type": "execute_result",
     "data": {
      "text/plain": "True"
     },
     "metadata": {},
     "execution_count": 40
    }
   ],
   "source": [
    "pd.Series(['imdbId', 'tmdbId']).is_unique"
   ]
  },
  {
   "cell_type": "markdown",
   "metadata": {},
   "source": [
    "Links is cleaned and ready for action."
   ]
  },
  {
   "cell_type": "code",
   "execution_count": 41,
   "metadata": {},
   "outputs": [],
   "source": [
    "df_save(links)\n",
    "df_save(links_small)"
   ]
  }
 ],
 "metadata": {
  "language_info": {
   "name": "python",
   "codemirror_mode": {
    "name": "ipython",
    "version": 3
   },
   "version": "3.7.4-final"
  },
  "orig_nbformat": 2,
  "file_extension": ".py",
  "mimetype": "text/x-python",
  "name": "python",
  "npconvert_exporter": "python",
  "pygments_lexer": "ipython3",
  "version": 3,
  "kernelspec": {
   "name": "python3",
   "display_name": "Python 3"
  }
 },
 "nbformat": 4,
 "nbformat_minor": 2
}